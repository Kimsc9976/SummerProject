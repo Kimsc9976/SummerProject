{
 "cells": [
  {
   "cell_type": "markdown",
   "id": "ff5c2294",
   "metadata": {},
   "source": [
    "# Sonification: Convert data to MIDI\n",
    "### https://hub-binder.mybinder.ovh/user/systemsounds-so-ation-tutorials-z29azx89/doc/tree/data2midi-part1.ipynb\n",
    "#### https://www.youtube.com/watch?v=DUdLRy8i9qI"
   ]
  },
  {
   "cell_type": "code",
   "execution_count": 1,
   "id": "e7e71878",
   "metadata": {},
   "outputs": [],
   "source": [
    "import pandas as pd\n",
    "import matplotlib.pyplot as plt\n",
    "import numpy as np"
   ]
  },
  {
   "cell_type": "markdown",
   "id": "841987bc",
   "metadata": {},
   "source": [
    "## 1. Load data (.csv file)"
   ]
  },
  {
   "cell_type": "code",
   "execution_count": 2,
   "id": "8e3ffe2f",
   "metadata": {},
   "outputs": [
    {
     "name": "stdout",
     "output_type": "stream",
     "text": [
      "111\n"
     ]
    },
    {
     "data": {
      "text/html": [
       "<div>\n",
       "<style scoped>\n",
       "    .dataframe tbody tr th:only-of-type {\n",
       "        vertical-align: middle;\n",
       "    }\n",
       "\n",
       "    .dataframe tbody tr th {\n",
       "        vertical-align: top;\n",
       "    }\n",
       "\n",
       "    .dataframe thead th {\n",
       "        text-align: right;\n",
       "    }\n",
       "</style>\n",
       "<table border=\"1\" class=\"dataframe\">\n",
       "  <thead>\n",
       "    <tr style=\"text-align: right;\">\n",
       "      <th></th>\n",
       "      <th>names</th>\n",
       "      <th>longitude</th>\n",
       "      <th>latitude</th>\n",
       "      <th>diameter</th>\n",
       "      <th>age</th>\n",
       "    </tr>\n",
       "  </thead>\n",
       "  <tbody>\n",
       "    <tr>\n",
       "      <th>60</th>\n",
       "      <td>Mosting A</td>\n",
       "      <td>354.80469</td>\n",
       "      <td>-3.22070</td>\n",
       "      <td>12.7</td>\n",
       "      <td>1324</td>\n",
       "    </tr>\n",
       "    <tr>\n",
       "      <th>50</th>\n",
       "      <td>NaN</td>\n",
       "      <td>262.67029</td>\n",
       "      <td>43.65850</td>\n",
       "      <td>13.6</td>\n",
       "      <td>1026</td>\n",
       "    </tr>\n",
       "    <tr>\n",
       "      <th>45</th>\n",
       "      <td>NaN</td>\n",
       "      <td>79.73330</td>\n",
       "      <td>22.83180</td>\n",
       "      <td>14.3</td>\n",
       "      <td>993</td>\n",
       "    </tr>\n",
       "    <tr>\n",
       "      <th>2</th>\n",
       "      <td>King</td>\n",
       "      <td>120.49220</td>\n",
       "      <td>4.93750</td>\n",
       "      <td>76.2</td>\n",
       "      <td>992</td>\n",
       "    </tr>\n",
       "    <tr>\n",
       "      <th>41</th>\n",
       "      <td>Hume Z</td>\n",
       "      <td>90.41211</td>\n",
       "      <td>-3.62497</td>\n",
       "      <td>15.0</td>\n",
       "      <td>981</td>\n",
       "    </tr>\n",
       "  </tbody>\n",
       "</table>\n",
       "</div>"
      ],
      "text/plain": [
       "        names  longitude  latitude  diameter   age\n",
       "60  Mosting A  354.80469  -3.22070      12.7  1324\n",
       "50        NaN  262.67029  43.65850      13.6  1026\n",
       "45        NaN   79.73330  22.83180      14.3   993\n",
       "2        King  120.49220   4.93750      76.2   992\n",
       "41     Hume Z   90.41211  -3.62497      15.0   981"
      ]
     },
     "execution_count": 2,
     "metadata": {},
     "output_type": "execute_result"
    }
   ],
   "source": [
    "filename = 'lunarCraterAges'\n",
    "\n",
    "df = pd.read_csv('./data/'+filename + '.csv')\n",
    "\n",
    "df = df.sort_values(by = 'age', ascending = False)\n",
    "# by = 'age' 열의 기준에 따라 False 내림차순, True 오름차순 \n",
    "n_impact = len(df) #num of row\n",
    "\n",
    "print(n_impact)\n",
    "df.head()"
   ]
  },
  {
   "cell_type": "code",
   "execution_count": 3,
   "id": "442eb3f1",
   "metadata": {},
   "outputs": [],
   "source": [
    "# idx값을 통해 행의 값을 가져오기\n",
    "test0_0 = df.loc[2] # 정보를 행에 대한 열의 정보로 가져옴\n",
    "test0_1 = df.loc[[2]] # 정보를 행의 값 그 자체로 가져옴\n",
    "\n",
    "# row값을 통해 행의 정보를 가져오기\n",
    "test1_0 = df.iloc[2] # 정보를 행에 대한 열의 정보로 가져옴\n",
    "test1_1 = df.iloc[[2]] # 정보를 행의 값 그 자체로 가져옴\n",
    "\n"
   ]
  },
  {
   "cell_type": "markdown",
   "id": "bc3bc460",
   "metadata": {},
   "source": [
    "## 2. Plot data"
   ]
  },
  {
   "cell_type": "code",
   "execution_count": 4,
   "id": "9928ed19",
   "metadata": {},
   "outputs": [],
   "source": [
    "# 나이에 대한 정보와 지름에 대한 정보만을 바탕으로 그래프를 그릴거임\n",
    "\n",
    "ages = df['age'].values # 열값을 받아오는 \n",
    "diameters = df['diameter'].values # 열값을 받아오는 "
   ]
  },
  {
   "cell_type": "markdown",
   "id": "bd9c0ccc",
   "metadata": {},
   "source": [
    "#### plot = 그래프형태 , scatter = 산포도형태 - 차이 구분"
   ]
  },
  {
   "cell_type": "code",
   "execution_count": 5,
   "id": "3de52893",
   "metadata": {},
   "outputs": [
    {
     "data": {
      "image/png": "[encoded data removed]",
      "text/plain": [
       "<Figure size 432x288 with 1 Axes>"
      ]
     },
     "metadata": {
      "needs_background": "light"
     },
     "output_type": "display_data"
    }
   ],
   "source": [
    "plt.scatter(ages, diameters, s = diameters) \n",
    "plt.ylabel('diameter[km]')\n",
    "plt.xlabel('age [Myears]')\n",
    "plt.show()\n",
    "# s = size diameter의 크기에 따라 다르게 크기가 적용됨\n",
    "# c = clor "
   ]
  },
  {
   "cell_type": "markdown",
   "id": "1b0a3273",
   "metadata": {},
   "source": [
    "#### 만약 뒤집고 싶다면 x값을 반대로 두면 된다."
   ]
  },
  {
   "cell_type": "code",
   "execution_count": 6,
   "id": "50adbb1b",
   "metadata": {},
   "outputs": [
    {
     "data": {
      "image/png": "[encoded data removed]",
      "text/plain": [
       "<Figure size 432x288 with 1 Axes>"
      ]
     },
     "metadata": {
      "needs_background": "light"
     },
     "output_type": "display_data"
    }
   ],
   "source": [
    "time_Myears = max(ages) - ages # 가장 오래된 친구들 먼저 측정\n",
    "#List의 특징을이용해서 이렇게 제거를 한 것\n",
    "plt.scatter(time_Myears, diameters, s = diameters) \n",
    "plt.ylabel('diameter[km]')\n",
    "plt.xlabel('age [Myears]')\n",
    "plt.show()"
   ]
  },
  {
   "cell_type": "markdown",
   "id": "467306ca",
   "metadata": {},
   "source": [
    "## 3. Write general mapping function"
   ]
  },
  {
   "cell_type": "markdown",
   "id": "84452603",
   "metadata": {},
   "source": [
    "#### Maping 하는 함수"
   ]
  },
  {
   "cell_type": "code",
   "execution_count": 1,
   "id": "9d86f8c8",
   "metadata": {
    "ExecuteTime": {
     "end_time": "2022-08-14T09:27:03.605768Z",
     "start_time": "2022-08-14T09:27:03.568628Z"
    }
   },
   "outputs": [
    {
     "data": {
      "text/plain": [
       "80.0"
      ]
     },
     "execution_count": 1,
     "metadata": {},
     "output_type": "execute_result"
    }
   ],
   "source": [
    "def map_value(value, min_value, max_value, min_result, max_result):\n",
    "    '''maps value (or array of values) from one range to another'''\n",
    "    \n",
    "    result = min_result + (value - min_value)/(max_value - min_value)*(max_result - min_result)\n",
    "    return result\n",
    "\n",
    "map_value(8,10,20,100,200)"
   ]
  },
  {
   "cell_type": "markdown",
   "id": "8d5824fd",
   "metadata": {},
   "source": [
    "### 3.1 Compress Time"
   ]
  },
  {
   "cell_type": "markdown",
   "id": "b868131b",
   "metadata": {},
   "source": [
    "#### option 1 - max t_data = duration"
   ]
  },
  {
   "cell_type": "code",
   "execution_count": 8,
   "id": "832aa90e",
   "metadata": {
    "scrolled": true
   },
   "outputs": [
    {
     "name": "stdout",
     "output_type": "stream",
     "text": [
      "Duration : 52.8 beats\n",
      "[ 0.   11.92 13.24 13.28 13.72 15.76 18.04 20.4  20.96 21.08 23.68 24.64\n",
      " 25.52 25.84 26.2  26.68 27.16 27.32 27.8  28.48 29.48 29.52 29.64 29.68\n",
      " 30.44 31.4  31.88 32.52 33.16 33.28 33.4  33.72 34.8  34.8  35.   35.12\n",
      " 35.24 35.52 35.64 36.12 36.68 36.72 37.32 37.56 37.56 37.88 38.2  39.08\n",
      " 39.2  39.24 40.24 40.44 40.92 41.16 41.32 41.36 42.08 42.6  42.68 42.8\n",
      " 43.44 43.92 44.   44.04 44.12 44.24 44.6  45.12 45.24 45.32 45.4  45.72\n",
      " 45.72 45.84 45.96 46.04 46.4  46.4  46.6  47.08 47.16 47.36 47.4  47.44\n",
      " 47.48 47.84 47.92 48.44 48.56 49.24 49.56 49.6  49.72 49.76 50.52 50.72\n",
      " 50.8  50.96 51.08 51.2  51.32 51.36 51.4  51.6  51.64 51.72 51.8  51.92\n",
      " 52.08 52.44 52.8 ]\n"
     ]
    }
   ],
   "source": [
    "Myears_per_beat = 25\n",
    "t_data1 = time_Myears/Myears_per_beat\n",
    "\n",
    "t_data1 # MIDI FIle에는 beat로 이야기하지 sec로 이야기하지않음 참고 \n",
    "duration_beats_1 = max(t_data1)\n",
    "print('Duration : {} beats'.format(duration_beats_1))\n",
    "print(t_data1)"
   ]
  },
  {
   "cell_type": "markdown",
   "id": "2be8dbdd",
   "metadata": {},
   "source": [
    "#### option2 - fix duration"
   ]
  },
  {
   "cell_type": "code",
   "execution_count": 9,
   "id": "bf99a45c",
   "metadata": {
    "scrolled": false
   },
   "outputs": [
    {
     "name": "stdout",
     "output_type": "stream",
     "text": [
      "Duration : 60 beats\n",
      "[ 0.         13.54545455 15.04545455 15.09090909 15.59090909 17.90909091\n",
      " 20.5        23.18181818 23.81818182 23.95454545 26.90909091 28.\n",
      " 29.         29.36363636 29.77272727 30.31818182 30.86363636 31.04545455\n",
      " 31.59090909 32.36363636 33.5        33.54545455 33.68181818 33.72727273\n",
      " 34.59090909 35.68181818 36.22727273 36.95454545 37.68181818 37.81818182\n",
      " 37.95454545 38.31818182 39.54545455 39.54545455 39.77272727 39.90909091\n",
      " 40.04545455 40.36363636 40.5        41.04545455 41.68181818 41.72727273\n",
      " 42.40909091 42.68181818 42.68181818 43.04545455 43.40909091 44.40909091\n",
      " 44.54545455 44.59090909 45.72727273 45.95454545 46.5        46.77272727\n",
      " 46.95454545 47.         47.81818182 48.40909091 48.5        48.63636364\n",
      " 49.36363636 49.90909091 50.         50.04545455 50.13636364 50.27272727\n",
      " 50.68181818 51.27272727 51.40909091 51.5        51.59090909 51.95454545\n",
      " 51.95454545 52.09090909 52.22727273 52.31818182 52.72727273 52.72727273\n",
      " 52.95454545 53.5        53.59090909 53.81818182 53.86363636 53.90909091\n",
      " 53.95454545 54.36363636 54.45454545 55.04545455 55.18181818 55.95454545\n",
      " 56.31818182 56.36363636 56.5        56.54545455 57.40909091 57.63636364\n",
      " 57.72727273 57.90909091 58.04545455 58.18181818 58.31818182 58.36363636\n",
      " 58.40909091 58.63636364 58.68181818 58.77272727 58.86363636 59.\n",
      " 59.18181818 59.59090909 60.        ]\n"
     ]
    }
   ],
   "source": [
    "duration_beats_2 = 60\n",
    "\n",
    "\n",
    "t_data2 = map_value(time_Myears, 0, max(time_Myears), 0, duration_beats_2)\n",
    "print('Duration : {} beats'.format(duration_beats_2))\n",
    "print(t_data2)"
   ]
  },
  {
   "cell_type": "markdown",
   "id": "5ffb7ee3",
   "metadata": {},
   "source": [
    "### 3.2 Make Beat"
   ]
  },
  {
   "cell_type": "code",
   "execution_count": 10,
   "id": "b103543a",
   "metadata": {},
   "outputs": [],
   "source": [
    "bpm = 60 # if bpm = 60, 1beat = 1sec\n",
    "duration_sec1 = duration_beats_1 * 60/bpm\n",
    "duration_sec2 = duration_beats_2 * 60/bpm"
   ]
  },
  {
   "cell_type": "markdown",
   "id": "48eb8ad5",
   "metadata": {},
   "source": [
    "##### Data를 Beat로 변환한 후 scatter로 표현"
   ]
  },
  {
   "cell_type": "code",
   "execution_count": 11,
   "id": "35d834bb",
   "metadata": {},
   "outputs": [
    {
     "data": {
      "image/png": "[encoded data removed]",
      "text/plain": [
       "<Figure size 432x288 with 1 Axes>"
      ]
     },
     "metadata": {
      "needs_background": "light"
     },
     "output_type": "display_data"
    }
   ],
   "source": [
    "plt.scatter(t_data1, diameters, s=diameters)\n",
    "plt.xlabel('time [beats]')\n",
    "plt.ylabel('diameter [km]')\n",
    "plt.show()"
   ]
  },
  {
   "cell_type": "markdown",
   "id": "427521f4",
   "metadata": {},
   "source": [
    "## 4. Normalize and scale"
   ]
  },
  {
   "cell_type": "code",
   "execution_count": 12,
   "id": "ff3a1f3c",
   "metadata": {},
   "outputs": [
    {
     "data": {
      "image/png": "[encoded data removed]",
      "text/plain": [
       "<Figure size 432x288 with 1 Axes>"
      ]
     },
     "metadata": {
      "needs_background": "light"
     },
     "output_type": "display_data"
    }
   ],
   "source": [
    "y_data = map_value(diameters, min(diameters), max(diameters), 0, 1) # normalize to 0~1\n",
    "\n",
    "y_scale = 0.5 ## 0~1사이에서 더 퍼지게 하기 위해서 제곱을 함\n",
    "              ## y_data 자체는 너무 오밀조밀하게 모여있음 \n",
    "              ## -> 오밀조밀하게 모인 음을 낼 경우가 커짐\n",
    "y_data = y_data**y_scale\n",
    "\n",
    "plt.scatter(time_Myears, y_data, s=50*y_data)\n",
    "plt.xlabel('time [Myr]')\n",
    "plt.ylabel('y data [normalized]')\n",
    "plt.show()"
   ]
  },
  {
   "cell_type": "markdown",
   "id": "070c0102",
   "metadata": {},
   "source": [
    "## 5. Midi 이용법"
   ]
  },
  {
   "cell_type": "markdown",
   "id": "14853dc3",
   "metadata": {},
   "source": [
    "#### https://www.inspiredacoustics.com/en/MIDI_note_numbers_and_center_frequencies"
   ]
  },
  {
   "cell_type": "code",
   "execution_count": 1,
   "id": "8a458a86",
   "metadata": {
    "ExecuteTime": {
     "end_time": "2022-08-14T13:57:58.757398Z",
     "start_time": "2022-08-14T13:57:58.541393Z"
    }
   },
   "outputs": [
    {
     "data": {
      "text/plain": [
       "25"
      ]
     },
     "execution_count": 1,
     "metadata": {},
     "output_type": "execute_result"
    }
   ],
   "source": [
    "from audiolazy import str2midi\n",
    "\n",
    "str2midi('C#1') # int"
   ]
  },
  {
   "cell_type": "code",
   "execution_count": 27,
   "id": "3044b904",
   "metadata": {},
   "outputs": [
    {
     "name": "stdout",
     "output_type": "stream",
     "text": [
      "Resolution: 23 notes\n",
      "[24, 36, 43, 48, 52, 55, 57, 59, 62, 64, 67, 69, 71, 74, 76, 79, 81, 83, 86, 88, 90, 91, 93]\n"
     ]
    }
   ],
   "source": [
    "# 4 octaves of major scale\n",
    "# note_names = ['C2','D2','E2','F2','G2','A2','B2',\n",
    "#              'C3','D3','E3','F3','G3','A3','B3',\n",
    "#              'C4','D4','E4','F4','G4','A4','B4',\n",
    "#              'C5','D5','E5','F5','G5','A5','B5']\n",
    "\n",
    "# #4 octaves of major pentatonic scale \n",
    "# note_names = ['C2','D2','E2','G2','A2',\n",
    "#              'C3','D3','E3','G3','A3',\n",
    "#              'C4','D4','E4','G4','A4',\n",
    "#              'C5','D5','E5','G5','A5']\n",
    "\n",
    "# #custom note set (a voicing of a Cmaj13#11 chord, notes from C lydian)\n",
    "note_names = ['C1','C2','G2',\n",
    "             'C3','E3','G3','A3','B3',\n",
    "             'D4','E4','G4','A4','B4',\n",
    "             'D5','E5','G5','A5','B5',\n",
    "             'D6','E6','F#6','G6','A6']\n",
    "\n",
    "note_midis = [str2midi(n) for n in note_names] #make a list of midi note numbers \n",
    "\n",
    "n_notes = len(note_midis)\n",
    "print('Resolution:',n_notes, 'notes')\n",
    "# if you want higher just choose more number of midis\n",
    "print(note_midis)"
   ]
  },
  {
   "cell_type": "markdown",
   "id": "259ce2a2",
   "metadata": {},
   "source": [
    "## 6. data를 midi에 적용"
   ]
  },
  {
   "cell_type": "code",
   "execution_count": 28,
   "id": "50531de3",
   "metadata": {},
   "outputs": [
    {
     "name": "stdout",
     "output_type": "stream",
     "text": [
      "[86, 86, 83, 48, 83, 69, 90, 76, 83, 24, 86, 88, 88, 86, 83, 67, 86, 88, 86, 86, 91, 59, 90, 86, 88, 88, 76, 88, 74, 79, 86, 90, 79, 90, 79, 59, 76, 86, 90, 90, 88, 86, 79, 90, 86, 83, 90, 81, 88, 86, 86, 83, 90, 81, 55, 83, 76, 86, 88, 71, 90, 88, 67, 91, 81, 91, 79, 62, 88, 81, 88, 86, 91, 74, 81, 81, 64, 91, 86, 48, 88, 81, 90, 83, 90, 90, 88, 86, 91, 79, 36, 86, 88, 67, 69, 83, 88, 90, 79, 81, 74, 83, 88, 93, 83, 83, 88, 86, 86, 90, 76]\n"
     ]
    }
   ],
   "source": [
    "\n",
    "midi_data = []\n",
    "for i in range(n_impact):\n",
    "    note_index = round(map_value(y_data[i],0, 1, n_notes-1, 0))\n",
    "                                              ##  이부분으로 노트 위치 조정\n",
    "                                              ##  큰 크리에이터가 높은음을 내려면 0,n_notes-1의 위치를 reverse해줘야함 \n",
    "                                              ##  이 이유는 Midi의 숫자가 낮을수록 낮은 음이기 때문\n",
    "\n",
    "    midi_data.append(note_midis[note_index])\n",
    "\n",
    "print(midi_data)\n"
   ]
  },
  {
   "cell_type": "code",
   "execution_count": 29,
   "id": "9141335c",
   "metadata": {
    "scrolled": true
   },
   "outputs": [
    {
     "data": {
      "image/png": "[encoded data removed]",
      "text/plain": [
       "<Figure size 432x288 with 1 Axes>"
      ]
     },
     "metadata": {
      "needs_background": "light"
     },
     "output_type": "display_data"
    }
   ],
   "source": [
    "plt.scatter(t_data1, midi_data, s= 50*y_data) # midi data 대신 y_data를 사용하는 이유는\n",
    "                                              # midi_data가 list형 && 그래프를 이용해서\n",
    "                                              # 크기를 보려고하는데 midi datasms 이미 변형되어 이전값을 이용함\n",
    "plt.xlabel('time[Beats]')\n",
    "plt.ylabel('midi note numbers')\n",
    "plt.show()"
   ]
  },
  {
   "cell_type": "markdown",
   "id": "b0c35724",
   "metadata": {},
   "source": [
    "## 7. note의 속도 조절하기"
   ]
  },
  {
   "cell_type": "code",
   "execution_count": 30,
   "id": "5968ee97",
   "metadata": {},
   "outputs": [],
   "source": [
    "v_min = 35\n",
    "v_max = 127"
   ]
  },
  {
   "cell_type": "code",
   "execution_count": 31,
   "id": "4b29528f",
   "metadata": {},
   "outputs": [
    {
     "data": {
      "image/png": "[encoded data removed]",
      "text/plain": [
       "<Figure size 432x288 with 1 Axes>"
      ]
     },
     "metadata": {
      "needs_background": "light"
     },
     "output_type": "display_data"
    }
   ],
   "source": [
    "v_data = []\n",
    "for i in range(n_impact):\n",
    "    note_velocity = round(map_value(y_data[i], 0, 1, v_min, v_max))\n",
    "    v_data.append(note_velocity)\n",
    "\n",
    "plt.scatter(t_data1,midi_data,s=v_data)\n",
    "plt.xlabel('time [beats]')\n",
    "plt.ylabel('midi note numbers')\n",
    "plt.show()"
   ]
  },
  {
   "cell_type": "markdown",
   "id": "6363f751",
   "metadata": {},
   "source": [
    "## 8. Save data as midi Fiile"
   ]
  },
  {
   "cell_type": "code",
   "execution_count": 34,
   "id": "e65f52de",
   "metadata": {},
   "outputs": [],
   "source": [
    "from midiutil import MIDIFile #import library to make midi file, https://midiutil.readthedocs.io/en/1.2.1/\n",
    "    \n",
    "#create midi file object, add tempo\n",
    "my_midi_file = MIDIFile(1) #one track \n",
    "my_midi_file.addTempo(track=0, time=0, tempo=bpm*1.5) \n",
    "\n",
    "#add midi notes\n",
    "for i in range(n_impact):\n",
    "    my_midi_file.addNote(track=0, channel=0, pitch=midi_data[i], time=t_data1[i], duration=2, volume=v_data[i])\n",
    "\n",
    "#create and save the midi file itself\n",
    "with open(filename + '.mid', \"wb\") as f:\n",
    "    my_midi_file.writeFile(f) \n"
   ]
  },
  {
   "cell_type": "markdown",
   "id": "2cbfa623",
   "metadata": {},
   "source": [
    "### 8.1 들어보기"
   ]
  },
  {
   "cell_type": "code",
   "execution_count": 35,
   "id": "74479222",
   "metadata": {},
   "outputs": [],
   "source": [
    "import sys \n",
    "\n",
    "import pygame #import library for playing midi files, https://pypi.org/project/pygame/\n",
    "\n",
    "pygame.init()\n",
    "pygame.mixer.music.load(filename + '.mid')\n",
    "pygame.mixer.music.play()\n",
    "\n"
   ]
  },
  {
   "cell_type": "code",
   "execution_count": null,
   "id": "c1ec940a",
   "metadata": {},
   "outputs": [],
   "source": []
  }
 ],
 "metadata": {
  "kernelspec": {
   "display_name": "Python 3 (ipykernel)",
   "language": "python",
   "name": "python3"
  },
  "language_info": {
   "codemirror_mode": {
    "name": "ipython",
    "version": 3
   },
   "file_extension": ".py",
   "mimetype": "text/x-python",
   "name": "python",
   "nbconvert_exporter": "python",
   "pygments_lexer": "ipython3",
   "version": "3.8.13"
  },
  "toc": {
   "base_numbering": 1,
   "nav_menu": {},
   "number_sections": true,
   "sideBar": true,
   "skip_h1_title": false,
   "title_cell": "Table of Contents",
   "title_sidebar": "Contents",
   "toc_cell": false,
   "toc_position": {},
   "toc_section_display": true,
   "toc_window_display": false
  },
  "varInspector": {
   "cols": {
    "lenName": 16,
    "lenType": 16,
    "lenVar": 40
   },
   "kernels_config": {
    "python": {
     "delete_cmd_postfix": "",
     "delete_cmd_prefix": "del ",
     "library": "var_list.py",
     "varRefreshCmd": "print(var_dic_list())"
    },
    "r": {
     "delete_cmd_postfix": ") ",
     "delete_cmd_prefix": "rm(",
     "library": "var_list.r",
     "varRefreshCmd": "cat(var_dic_list()) "
    }
   },
   "types_to_exclude": [
    "module",
    "function",
    "builtin_function_or_method",
    "instance",
    "_Feature"
   ],
   "window_display": false
  }
 },
 "nbformat": 4,
 "nbformat_minor": 5
}
