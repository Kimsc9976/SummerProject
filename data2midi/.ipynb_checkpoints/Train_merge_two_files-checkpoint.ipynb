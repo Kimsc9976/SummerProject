{
 "cells": [
  {
   "cell_type": "code",
   "execution_count": 78,
   "metadata": {
    "ExecuteTime": {
     "end_time": "2022-08-15T07:38:11.289322Z",
     "start_time": "2022-08-15T07:38:11.255434Z"
    }
   },
   "outputs": [],
   "source": [
    "import librosa\n",
    "import librosa.display\n",
    "import audiolazy\n",
    "\n",
    "from midiutil import MIDIFile\n",
    "from glob import glob\n",
    "from audiolazy import str2midi\n",
    "\n",
    "import matplotlib.pyplot as plt\n",
    "import pandas as pd\n",
    "import numpy as np\n"
   ]
  },
  {
   "cell_type": "markdown",
   "metadata": {},
   "source": [
    "### 만든 함수"
   ]
  },
  {
   "cell_type": "markdown",
   "metadata": {},
   "source": [
    "#### Mapping_example"
   ]
  },
  {
   "cell_type": "code",
   "execution_count": 66,
   "metadata": {
    "ExecuteTime": {
     "end_time": "2022-08-15T07:25:10.638457Z",
     "start_time": "2022-08-15T07:25:10.618956Z"
    }
   },
   "outputs": [],
   "source": [
    "def map_value(value, min_value, max_value, min_result, max_result):\n",
    "    '''maps value (or array of values) from one range to another'''\n",
    "    \n",
    "    result = min_result + (value - min_value)/(max_value - min_value)*(max_result - min_result)\n",
    "    return result"
   ]
  },
  {
   "cell_type": "markdown",
   "metadata": {},
   "source": [
    "#### Mapping Frequencies"
   ]
  },
  {
   "cell_type": "code",
   "execution_count": null,
   "metadata": {},
   "outputs": [],
   "source": [
    "def map_freq (value):\n",
    "    "
   ]
  },
  {
   "cell_type": "markdown",
   "metadata": {},
   "source": [
    "#### Time data 받기"
   ]
  },
  {
   "cell_type": "code",
   "execution_count": 50,
   "metadata": {
    "ExecuteTime": {
     "end_time": "2022-08-14T14:13:44.050166Z",
     "start_time": "2022-08-14T14:13:44.036586Z"
    }
   },
   "outputs": [],
   "source": [
    "def SR_point(data):\n",
    "    result = list(range(len(data)))\n",
    "    return result"
   ]
  },
  {
   "cell_type": "markdown",
   "metadata": {},
   "source": [
    "## 음향정보 받아오기"
   ]
  },
  {
   "cell_type": "code",
   "execution_count": 52,
   "metadata": {
    "ExecuteTime": {
     "end_time": "2022-08-14T14:16:21.083140Z",
     "start_time": "2022-08-14T14:16:21.056013Z"
    }
   },
   "outputs": [
    {
     "data": {
      "text/plain": [
       "['./audio-data-processing/music_data\\\\Axollo-Burn_It.wav',\n",
       " './audio-data-processing/music_data\\\\Curbi-What_You_Like.wav',\n",
       " './audio-data-processing/music_data\\\\Robin_Hustin_Jessica_Chertock-Burn_it_Down.wav',\n",
       " './audio-data-processing/music_data\\\\Slow-ambient-new-age-song.wav']"
      ]
     },
     "execution_count": 52,
     "metadata": {},
     "output_type": "execute_result"
    }
   ],
   "source": [
    "music_files = glob('./audio-data-processing/music_data/*.wav')\n",
    "music_files"
   ]
  },
  {
   "cell_type": "code",
   "execution_count": 215,
   "metadata": {
    "ExecuteTime": {
     "end_time": "2022-08-15T09:01:31.498174Z",
     "start_time": "2022-08-15T09:01:23.667970Z"
    }
   },
   "outputs": [
    {
     "name": "stdout",
     "output_type": "stream",
     "text": [
      "263.3926530612245\n"
     ]
    }
   ],
   "source": [
    "y , sr = librosa.load(music_files[3])\n",
    "length_in_sec = y.shape[0]/sr"
   ]
  },
  {
   "cell_type": "code",
   "execution_count": 219,
   "metadata": {
    "ExecuteTime": {
     "end_time": "2022-08-15T09:03:11.391137Z",
     "start_time": "2022-08-15T09:03:11.320592Z"
    }
   },
   "outputs": [],
   "source": [
    "time = np.arange(y.shape[0])/y.shape[0]*length_in_sec"
   ]
  },
  {
   "cell_type": "code",
   "execution_count": 533,
   "metadata": {
    "ExecuteTime": {
     "end_time": "2022-08-16T02:47:58.473066Z",
     "start_time": "2022-08-16T02:47:58.032937Z"
    }
   },
   "outputs": [
    {
     "data": {
      "text/plain": [
       "(1025, 11344)"
      ]
     },
     "execution_count": 533,
     "metadata": {},
     "output_type": "execute_result"
    }
   ],
   "source": [
    "y_stft = librosa.stft(y)\n",
    "y_stft.shape"
   ]
  },
  {
   "cell_type": "code",
   "execution_count": 534,
   "metadata": {
    "ExecuteTime": {
     "end_time": "2022-08-16T02:47:59.452254Z",
     "start_time": "2022-08-16T02:47:59.441477Z"
    }
   },
   "outputs": [
    {
     "data": {
      "text/plain": [
       "513"
      ]
     },
     "execution_count": 534,
     "metadata": {},
     "output_type": "execute_result"
    }
   ],
   "source": [
    "len(test_Y)"
   ]
  },
  {
   "cell_type": "markdown",
   "metadata": {},
   "source": [
    "##### https://www.tutorialexample.com/understand-n_fft-hop_length-win_length-in-audio-processing-librosa-tutorial/"
   ]
  },
  {
   "cell_type": "code",
   "execution_count": 546,
   "metadata": {
    "ExecuteTime": {
     "end_time": "2022-08-16T02:49:49.060462Z",
     "start_time": "2022-08-16T02:49:49.050372Z"
    }
   },
   "outputs": [],
   "source": [
    "test_Y = y_stft[:,43*4+10]  # window 2048, unit = 22050, stride = 1024 \n",
    "test_Y_abs = np.abs(test_Y)\n",
    "test_freq = np.fft.fftfreq(y_stft[:,43].size, d=1./int(22050 * 0.5)) ## sample rate에 몇을 곱해야하는지 이해가 안됨...\n",
    "                                                                     ## sample rate에 window kenght의 scale을 곱해 FT의 값을 맞추는게 맞다고 하는데 단위가 다르다.. \n",
    "\n",
    "# fft_spectrum = np.fft.rfft(y)\n",
    "# fft_spectrum_abs = np.abs(fft_spectrum)\n",
    "# freq = np.fft.rfftfreq(y.size, d=1./sr)\n"
   ]
  },
  {
   "cell_type": "code",
   "execution_count": 547,
   "metadata": {
    "ExecuteTime": {
     "end_time": "2022-08-16T02:49:49.825817Z",
     "start_time": "2022-08-16T02:49:49.801282Z"
    }
   },
   "outputs": [
    {
     "name": "stdout",
     "output_type": "stream",
     "text": [
      "[  0.          10.75609756  21.51219512  32.26829268  43.02439024\n",
      "  53.7804878   64.53658537  75.29268293  86.04878049  96.80487805\n",
      " 107.56097561 118.31707317 129.07317073 139.82926829 150.58536585\n",
      " 161.34146341 172.09756098 182.85365854 193.6097561  204.36585366\n",
      " 215.12195122 225.87804878 236.63414634 247.3902439  258.14634146\n",
      " 268.90243902 279.65853659 290.41463415 301.17073171 311.92682927\n",
      " 322.68292683 333.43902439 344.19512195 354.95121951 365.70731707\n",
      " 376.46341463 387.2195122  397.97560976 408.73170732 419.48780488\n",
      " 430.24390244 441.         451.75609756 462.51219512 473.26829268\n",
      " 484.02439024 494.7804878  505.53658537 516.29268293 527.04878049]\n",
      "\n",
      "\n",
      "[ 4.908708    2.8047268   0.19103822  0.29731396  0.68678373  4.5491014\n",
      " 10.4974165   6.617913    0.6925741   0.1949933   0.88992643 17.227823\n",
      " 42.17724    24.831507    1.0895468  20.290812   47.268288   27.264364\n",
      "  0.8185073   0.85785145 12.322223   41.474415   34.94258     3.5656755\n",
      " 20.01309    13.359044    5.2321663  10.579855   18.846205   15.029294\n",
      "  6.0083528   2.088493    5.5749083   4.563257    1.7001574   4.673569\n",
      "  4.4824405   4.0322766   0.7044754   0.3747822   0.19489442  0.15868774\n",
      "  0.73134017  1.0282708   1.5179555   0.5429722   0.2955568   2.4356909\n",
      "  4.3101273   2.3636718 ]\n"
     ]
    }
   ],
   "source": [
    "print(test_freq[0:50])\n",
    "print('\\n')\n",
    "print(test_Y_abs[0:50])"
   ]
  },
  {
   "cell_type": "code",
   "execution_count": 548,
   "metadata": {
    "ExecuteTime": {
     "end_time": "2022-08-16T02:49:50.835533Z",
     "start_time": "2022-08-16T02:49:50.531857Z"
    }
   },
   "outputs": [
    {
     "data": {
      "image/png": "[encoded data removed]",
      "text/plain": [
       "<Figure size 720x576 with 1 Axes>"
      ]
     },
     "metadata": {
      "needs_background": "light"
     },
     "output_type": "display_data"
    }
   ],
   "source": [
    "plt.figure(figsize = (10,8))\n",
    "plt.plot(test_freq[0:100], test_Y_abs[0:100])\n",
    "plt.xlabel(\"frequency, Hz\")\n",
    "plt.ylabel(\"Amplitude, units\")\n",
    "plt.show()"
   ]
  },
  {
   "cell_type": "markdown",
   "metadata": {},
   "source": [
    "### END"
   ]
  },
  {
   "cell_type": "code",
   "execution_count": 540,
   "metadata": {
    "ExecuteTime": {
     "end_time": "2022-08-16T02:48:35.528054Z",
     "start_time": "2022-08-16T02:48:35.331028Z"
    },
    "scrolled": true
   },
   "outputs": [
    {
     "name": "stdout",
     "output_type": "stream",
     "text": [
      "[0.0000000e+00 8.1832572e-05 1.2687266e-01 ... 1.2688655e-04 5.2377542e-05\n",
      " 3.2472415e-06]\n"
     ]
    }
   ],
   "source": [
    "abs_ystft = np.abs(y_stft)\n",
    "print(abs_ystft[0])"
   ]
  },
  {
   "cell_type": "code",
   "execution_count": 541,
   "metadata": {
    "ExecuteTime": {
     "end_time": "2022-08-16T02:48:36.248694Z",
     "start_time": "2022-08-16T02:48:36.223671Z"
    }
   },
   "outputs": [],
   "source": [
    "a = y_stft[:,:43*5]"
   ]
  },
  {
   "cell_type": "code",
   "execution_count": 542,
   "metadata": {
    "ExecuteTime": {
     "end_time": "2022-08-16T02:48:37.827802Z",
     "start_time": "2022-08-16T02:48:36.929343Z"
    }
   },
   "outputs": [
    {
     "name": "stderr",
     "output_type": "stream",
     "text": [
      "C:\\Users\\82109\\anaconda3\\envs\\pycharm\\lib\\site-packages\\librosa\\util\\decorators.py:88: UserWarning: Trying to display complex-valued input. Showing magnitude instead.\n",
      "  return f(*args, **kwargs)\n"
     ]
    },
    {
     "data": {
      "image/png": "[encoded data removed]",
      "text/plain": [
       "<Figure size 1440x720 with 2 Axes>"
      ]
     },
     "metadata": {
      "needs_background": "light"
     },
     "output_type": "display_data"
    }
   ],
   "source": [
    "fig, ax = plt.subplots(figsize = (20,10))\n",
    "img = librosa.display.specshow(a, x_axis = 'time', y_axis='log',ax = ax)\n",
    "fig.colorbar(img, ax=ax, format=\"%+2.0f dB\")\n",
    "plt.show()"
   ]
  },
  {
   "cell_type": "markdown",
   "metadata": {},
   "source": [
    "### sr는 sample rate로 1초당 데이터를 얼마나 분할한지 확인 가능"
   ]
  },
  {
   "cell_type": "code",
   "execution_count": 69,
   "metadata": {
    "ExecuteTime": {
     "end_time": "2022-08-15T07:26:00.407646Z",
     "start_time": "2022-08-15T07:26:00.393325Z"
    }
   },
   "outputs": [
    {
     "name": "stdout",
     "output_type": "stream",
     "text": [
      "(263393,)\n",
      "1000\n",
      "-0.10942357\n"
     ]
    },
    {
     "data": {
      "text/plain": [
       "263"
      ]
     },
     "execution_count": 69,
     "metadata": {},
     "output_type": "execute_result"
    }
   ],
   "source": [
    "print(y.shape)\n",
    "print(sr)\n",
    "\n",
    "\n",
    "test = int(y.shape[0]/sr)\n",
    "test"
   ]
  },
  {
   "cell_type": "markdown",
   "metadata": {},
   "source": [
    "#### bpm을 기준으로 단위로 새롭게 resample 해서 beat음을 받을까 생각중"
   ]
  },
  {
   "cell_type": "markdown",
   "metadata": {},
   "source": [
    "##### 4분음표 기준 0.5초, librosa 기준 1초에 22050의 데이터 포인트가 default"
   ]
  },
  {
   "cell_type": "code",
   "execution_count": null,
   "metadata": {},
   "outputs": [],
   "source": []
  },
  {
   "cell_type": "markdown",
   "metadata": {},
   "source": [
    "#### 음향 정보 잠깐 확인"
   ]
  },
  {
   "cell_type": "code",
   "execution_count": 61,
   "metadata": {
    "ExecuteTime": {
     "end_time": "2022-08-14T14:30:40.288116Z",
     "start_time": "2022-08-14T14:30:40.211972Z"
    }
   },
   "outputs": [],
   "source": [
    "muzdata_normalized = map_value(y, min(y),max(y),0,2)\n",
    "\n",
    "muz_norm_head = muzdata_normalized[0:100]\n"
   ]
  },
  {
   "cell_type": "code",
   "execution_count": 64,
   "metadata": {
    "ExecuteTime": {
     "end_time": "2022-08-14T14:31:37.322839Z",
     "start_time": "2022-08-14T14:31:36.973273Z"
    },
    "scrolled": true
   },
   "outputs": [
    {
     "data": {
      "text/plain": [
       "<matplotlib.collections.PathCollection at 0x17df6b69f70>"
      ]
     },
     "execution_count": 64,
     "metadata": {},
     "output_type": "execute_result"
    },
    {
     "data": {
      "image/png": "[encoded data removed]",
      "text/plain": [
       "<Figure size 432x288 with 1 Axes>"
      ]
     },
     "metadata": {
      "needs_background": "light"
     },
     "output_type": "display_data"
    }
   ],
   "source": [
    "sr_point = SR_point(muz_norm_head)\n",
    "\n",
    "plt.scatter(sr_point, y[0:100], s = 1)"
   ]
  },
  {
   "cell_type": "markdown",
   "metadata": {},
   "source": [
    "### note data 받아오기"
   ]
  },
  {
   "cell_type": "code",
   "execution_count": 47,
   "metadata": {
    "ExecuteTime": {
     "end_time": "2022-08-14T14:00:59.483135Z",
     "start_time": "2022-08-14T14:00:59.458051Z"
    }
   },
   "outputs": [
    {
     "name": "stdout",
     "output_type": "stream",
     "text": [
      "Resolution: 42 notes\n",
      "[24, 26, 28, 29, 31, 33, 35, 36, 38, 40, 41, 43, 45, 47, 48, 50, 52, 53, 55, 57, 59, 60, 62, 64, 65, 67, 69, 71, 72, 74, 76, 77, 79, 81, 83, 84, 86, 88, 89, 91, 93, 95]\n"
     ]
    }
   ],
   "source": [
    "note_names = ['C1','D1','E1','G1','A1',\n",
    "             'C2','D2','E2','G2','A2',\n",
    "             'C3','D3','E3','G3','A3',\n",
    "             'C4','D4','E4','G4','A4',\n",
    "             'C5','D5','E5','G5','A5',\n",
    "             'C6','D6','E6','G6','A6']\n",
    "\n",
    "note_names = ['C1','D1','E1','F1','G1','A1','B1',\n",
    "             'C2','D2','E2','F2','G2','A2','B2',\n",
    "             'C3','D3','E3','F3','G3','A3','B3',\n",
    "             'C4','D4','E4','F4','G4','A4','B4',\n",
    "             'C5','D5','E5','F5','G5','A5','B5',\n",
    "             'C6','D6','E6','F6','G6','A6','B6']\n",
    "note_midis = [str2midi(n) for n in note_names] #make a list of midi note numbers \n",
    "\n",
    "n_notes = len(note_midis)\n",
    "print('Resolution:',n_notes, 'notes')\n",
    "# if you want higher just choose more number of midis\n",
    "print(note_midis)"
   ]
  },
  {
   "cell_type": "code",
   "execution_count": 48,
   "metadata": {
    "ExecuteTime": {
     "end_time": "2022-08-14T14:01:11.188062Z",
     "start_time": "2022-08-14T14:01:10.455213Z"
    }
   },
   "outputs": [],
   "source": [
    "midi_data = []\n",
    "for i in range(len(muz_norm_head)):\n",
    "    note_index = round(map_value(muz_norm_head[i], min(muz_norm_head), max(muz_norm_head), n_notes-1, 0))\n",
    "    \n",
    "    midi_data.append(note_midis[note_index])\n"
   ]
  },
  {
   "cell_type": "code",
   "execution_count": null,
   "metadata": {},
   "outputs": [],
   "source": []
  }
 ],
 "metadata": {
  "kernelspec": {
   "display_name": "Python 3",
   "language": "python",
   "name": "python3"
  },
  "language_info": {
   "codemirror_mode": {
    "name": "ipython",
    "version": 3
   },
   "file_extension": ".py",
   "mimetype": "text/x-python",
   "name": "python",
   "nbconvert_exporter": "python",
   "pygments_lexer": "ipython3",
   "version": "3.8.3"
  },
  "toc": {
   "base_numbering": 1,
   "nav_menu": {},
   "number_sections": true,
   "sideBar": true,
   "skip_h1_title": false,
   "title_cell": "Table of Contents",
   "title_sidebar": "Contents",
   "toc_cell": false,
   "toc_position": {},
   "toc_section_display": true,
   "toc_window_display": false
  },
  "varInspector": {
   "cols": {
    "lenName": 16,
    "lenType": 16,
    "lenVar": 40
   },
   "kernels_config": {
    "python": {
     "delete_cmd_postfix": "",
     "delete_cmd_prefix": "del ",
     "library": "var_list.py",
     "varRefreshCmd": "print(var_dic_list())"
    },
    "r": {
     "delete_cmd_postfix": ") ",
     "delete_cmd_prefix": "rm(",
     "library": "var_list.r",
     "varRefreshCmd": "cat(var_dic_list()) "
    }
   },
   "types_to_exclude": [
    "module",
    "function",
    "builtin_function_or_method",
    "instance",
    "_Feature"
   ],
   "window_display": false
  }
 },
 "nbformat": 4,
 "nbformat_minor": 4
}
