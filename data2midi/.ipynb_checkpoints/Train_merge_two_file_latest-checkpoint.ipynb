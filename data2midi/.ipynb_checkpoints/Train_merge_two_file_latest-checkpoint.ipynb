{
 "cells": [
  {
   "cell_type": "code",
   "execution_count": 2,
   "metadata": {
    "ExecuteTime": {
     "end_time": "2022-08-15T07:38:11.289322Z",
     "start_time": "2022-08-15T07:38:11.255434Z"
    }
   },
   "outputs": [],
   "source": [
    "import librosa\n",
    "import librosa.display\n",
    "import audiolazy\n",
    "\n",
    "from midiutil import MIDIFile\n",
    "from glob import glob\n",
    "from audiolazy import str2midi\n",
    "\n",
    "import matplotlib.pyplot as plt\n",
    "import pandas as pd\n",
    "import numpy as np\n",
    "\n",
    "import math"
   ]
  },
  {
   "cell_type": "markdown",
   "metadata": {},
   "source": [
    "### 만든 함수"
   ]
  },
  {
   "cell_type": "markdown",
   "metadata": {},
   "source": [
    "#### Mapping by linear ratio"
   ]
  },
  {
   "cell_type": "code",
   "execution_count": 3,
   "metadata": {
    "ExecuteTime": {
     "end_time": "2022-08-15T07:25:10.638457Z",
     "start_time": "2022-08-15T07:25:10.618956Z"
    }
   },
   "outputs": [],
   "source": [
    "def map_value(value, min_value, max_value, min_result, max_result):\n",
    "    '''maps value (or array of values) from one range to another'''\n",
    "    \n",
    "    result = min_result + (value - min_value)/(max_value - min_value)*(max_result - min_result)\n",
    "    return result"
   ]
  },
  {
   "cell_type": "markdown",
   "metadata": {},
   "source": [
    "#### Mapping Frequencies"
   ]
  },
  {
   "cell_type": "code",
   "execution_count": 4,
   "metadata": {},
   "outputs": [],
   "source": [
    "def Freq2note(Freq_Data):\n",
    "    \n",
    "    time_midi_map = []\n",
    "\n",
    "    for i in range(len(Freq_Data)):\n",
    "        \n",
    "        Time_data = time_Freq_map[i][0]\n",
    "        Freq_data = time_Freq_map[i][1]\n",
    "        midi_data = {}\n",
    "        \n",
    "        for freq, value in Freq_data.items():\n",
    "            note = round( 69 + 12 * math.log2(freq / 440))\n",
    "    #         print(n, \"is refers to \",freq)\n",
    "            midi_data[note] = value\n",
    "        time_midi_map.append([i, midi_data])\n",
    "        \n",
    "    return time_midi_map"
   ]
  },
  {
   "cell_type": "code",
   "execution_count": 5,
   "metadata": {},
   "outputs": [],
   "source": [
    "test_sample = [[0, {}], [1, {}], [2, {}], [3, {}], [4, {129.: 23.}], [5, {129.: 32., 258.: 10., 311.: 10.}], [6, {64.: 10., 129.: 34., 258.1463414634146: 11.546207, 311.9268292682927: 10.07483}], [7, {64.53658536585365: 11.919179, 129.: 35.86715, 258.: 10.751743}], [8, {64.: 12.501668, 129.: 36.}], [9, {64.: 12.776109, 129.: 36.}]]\n",
    "\n",
    "test_time_midi_map = []\n",
    "\n",
    "\n",
    "for i in range(len(test_sample)):\n",
    "    T_data = test_sample[i][0]\n",
    "    F_data = test_sample[i][1]\n",
    "    test_midi_data = {}\n",
    "    \n",
    "    for freq, value in F_data.items():\n",
    "        note = round( 69 + 12 * math.log2(freq / 440))\n",
    "#         print(n, \"is refers to \",freq)\n",
    "        test_midi_data[note] = value"
   ]
  },
  {
   "cell_type": "markdown",
   "metadata": {},
   "source": [
    "#### Time data 받기"
   ]
  },
  {
   "cell_type": "code",
   "execution_count": 6,
   "metadata": {
    "ExecuteTime": {
     "end_time": "2022-08-14T14:13:44.050166Z",
     "start_time": "2022-08-14T14:13:44.036586Z"
    }
   },
   "outputs": [],
   "source": [
    "def SR_point(data):\n",
    "    result = list(range(len(data)))\n",
    "    return result"
   ]
  },
  {
   "cell_type": "markdown",
   "metadata": {},
   "source": [
    "## 음향정보 받아오기"
   ]
  },
  {
   "cell_type": "code",
   "execution_count": 7,
   "metadata": {
    "ExecuteTime": {
     "end_time": "2022-08-14T14:16:21.083140Z",
     "start_time": "2022-08-14T14:16:21.056013Z"
    }
   },
   "outputs": [
    {
     "data": {
      "text/plain": [
       "['./audio-data-processing/music_data\\\\Axollo-Burn_It.wav',\n",
       " './audio-data-processing/music_data\\\\Curbi-What_You_Like.wav',\n",
       " './audio-data-processing/music_data\\\\Robin_Hustin_Jessica_Chertock-Burn_it_Down.wav',\n",
       " './audio-data-processing/music_data\\\\Slow-ambient-new-age-song.wav']"
      ]
     },
     "execution_count": 7,
     "metadata": {},
     "output_type": "execute_result"
    }
   ],
   "source": [
    "music_files = glob('./audio-data-processing/music_data/*.wav')\n",
    "music_files"
   ]
  },
  {
   "cell_type": "code",
   "execution_count": 8,
   "metadata": {
    "ExecuteTime": {
     "end_time": "2022-08-15T09:01:31.498174Z",
     "start_time": "2022-08-15T09:01:23.667970Z"
    }
   },
   "outputs": [],
   "source": [
    "y , sr = librosa.load(music_files[3])\n",
    "length_in_sec = int(y.shape[0]//sr)"
   ]
  },
  {
   "cell_type": "code",
   "execution_count": 9,
   "metadata": {},
   "outputs": [],
   "source": [
    "y.shape\n",
    "time = np.arange(y.shape[0])/y.shape[0]*length_in_sec"
   ]
  },
  {
   "cell_type": "code",
   "execution_count": 10,
   "metadata": {
    "ExecuteTime": {
     "end_time": "2022-08-15T09:03:11.391137Z",
     "start_time": "2022-08-15T09:03:11.320592Z"
    }
   },
   "outputs": [],
   "source": [
    "fft = 2048 # fft = 2048 is default and if you want audio librosa refer to use 512"
   ]
  },
  {
   "cell_type": "code",
   "execution_count": 11,
   "metadata": {
    "ExecuteTime": {
     "end_time": "2022-08-16T02:47:58.473066Z",
     "start_time": "2022-08-16T02:47:58.032937Z"
    },
    "scrolled": true
   },
   "outputs": [
    {
     "data": {
      "text/plain": [
       "(1025, 11344)"
      ]
     },
     "execution_count": 11,
     "metadata": {},
     "output_type": "execute_result"
    }
   ],
   "source": [
    "y_stft = librosa.stft(y, n_fft = fft)\n",
    "y_stft.shape"
   ]
  },
  {
   "cell_type": "code",
   "execution_count": 12,
   "metadata": {},
   "outputs": [
    {
     "name": "stdout",
     "output_type": "stream",
     "text": [
      "11344\n",
      "11344\n"
     ]
    }
   ],
   "source": [
    "y_frames = int( 5 + (y.shape[0] - fft) // (fft/4) )\n",
    "print(y_frames)\n",
    "print(len(y_stft[0]))"
   ]
  },
  {
   "cell_type": "markdown",
   "metadata": {},
   "source": [
    "##### https://www.tutorialexample.com/understand-n_fft-hop_length-win_length-in-audio-processing-librosa-tutorial/"
   ]
  },
  {
   "cell_type": "code",
   "execution_count": 13,
   "metadata": {
    "ExecuteTime": {
     "end_time": "2022-08-16T02:49:49.060462Z",
     "start_time": "2022-08-16T02:49:49.050372Z"
    },
    "scrolled": false
   },
   "outputs": [
    {
     "data": {
      "image/png": "[encoded data removed]",
      "text/plain": [
       "<Figure size 720x576 with 1 Axes>"
      ]
     },
     "metadata": {
      "needs_background": "light"
     },
     "output_type": "display_data"
    }
   ],
   "source": [
    "test_Y = y_stft[:,346]  # window 2048, unit = 22050, stride = 1024 \n",
    "test_Y_abs = np.abs(test_Y)\n",
    "test_freq = np.fft.fftfreq(y_stft[:,43].size, d=1./int(22050 * 0.5)) ## sample rate = 분해능, Window를 바탕으로 다시 Hz를 해석하기에 해석가능한 주파수는 Sample rate의  반이다.\n",
    "                                                                     ## sample rate에 window kenght의 scale을 곱해 FT의 값을 맞추는게 맞다고 하는데 단위가 다르다.. \n",
    "\n",
    "# fft_spectrum = np.fft.rfft(y)\n",
    "# fft_spectrum_abs = np.abs(fft_spectrum)\n",
    "# freq = np.fft.rfftfreq(y.size, d=1./sr)\n",
    "plt.figure(figsize = (10,8))\n",
    "plt.bar(test_freq[0:100], test_Y_abs[0:100],width = 1.5)\n",
    "plt.xlim()\n",
    "plt.ylim()\n",
    "plt.xlabel(\"frequency, Hz\")\n",
    "plt.ylabel(\"Amplitude, units\")\n",
    "plt.show()"
   ]
  },
  {
   "cell_type": "markdown",
   "metadata": {},
   "source": [
    "### 주파수 찾는 함수\n",
    " - 음들 중 몇몇의 큰 Amplitude값을 가진 음만을 사용할 예정"
   ]
  },
  {
   "cell_type": "markdown",
   "metadata": {},
   "source": [
    "#### data sheet 단위로 음을 찾는 함수"
   ]
  },
  {
   "cell_type": "code",
   "execution_count": 14,
   "metadata": {},
   "outputs": [],
   "source": [
    " # used_Freq_in_ = []   # 뭐라고 적어야 할 지 몰라 빈칸을 적었는데, 1/43초 임\n",
    "def findFreq_by_Datapoint(Freq, Amp_abs):\n",
    "    \n",
    "    n_freq = int(len(Freq) / 2) # 0 부터 Max Freq 까지 간 다음 MinFreq 부터 0 까지 data를 받기 때문에 + 데시벨은 굳이 받아야 하나 싶다.\n",
    "    n_freq = n_freq - n_freq%5  ## 3000 이상의 고주파는 굳이 사용하고싶은 생각이 없어서 Freq를 찾을 때 방해되지않게 날려버림\n",
    "    \n",
    "    Freq_carrier = Freq[:n_freq]\n",
    "    Amp_abs_carrier = Amp_abs[:n_freq]  \n",
    "    \n",
    "    Freq_carrier = np.reshape(Freq_carrier, (-1,5)) \n",
    "    Amp_abs_carrier = np.reshape(Amp_abs_carrier,(-1,5)) # 그 시간에 사용한 음을 명확하게 가져오기 위해 주변음 중 최댓값을 이용할 예정\n",
    "\n",
    "    Freq_box = {}\n",
    "\n",
    "    for i in range(n_freq // 5):\n",
    "\n",
    "        max_Amp = max(Amp_abs_carrier[i]) # 최댓값\n",
    "\n",
    "        if max_Amp <= 10:\n",
    "            continue\n",
    "\n",
    "        max_Amp_idx = Amp_abs_carrier[i].argmax() # 그 때의 idx\n",
    "        local_max_Freq = Freq_carrier[i][max_Amp_idx]\n",
    "        Freq_box[Freq_carrier[i][max_Amp_idx]] = max_Amp\n",
    "\n",
    "    return Freq_box"
   ]
  },
  {
   "attachments": {
    "image.png": {
     "image/png": "[encoded data removed]"
    }
   },
   "cell_type": "markdown",
   "metadata": {},
   "source": [
    "![image.png](attachment:image.png)\n",
    " - 이 사진은 예시인데, 보는 바와같이 주변에도 소리가 존재해 모든 주파수를 가져오면 곤란한 면이 있다."
   ]
  },
  {
   "cell_type": "markdown",
   "metadata": {},
   "source": [
    "#### 구한 Freq_box를 timepoint에 저장하는 함수"
   ]
  },
  {
   "cell_type": "code",
   "execution_count": 15,
   "metadata": {},
   "outputs": [],
   "source": [
    "def Used_Freq_in_(Y_STFT, sr = sr):\n",
    "    n_time_data = len(y_stft[0])\n",
    "    used_Freq_in_ = [] \n",
    "    \n",
    "    for i in range(n_time_data):\n",
    "        \n",
    "        amp_abs = np.abs(y_stft[:,i])\n",
    "        y_stft_freq = np.fft.fftfreq(y_stft[:,i].size, d=1./int(sr * 0.5))\n",
    "\n",
    "        used_Freq_in_.append([i, findFreq_by_Datapoint(y_stft_freq, amp_abs)])\n",
    "    \n",
    "    return used_Freq_in_"
   ]
  },
  {
   "cell_type": "markdown",
   "metadata": {},
   "source": [
    "### 해야할 것 - 노트가 너무 다단으로 찍힘, 근처에 있을 경우 하나로 뭉갤 필요가 있다"
   ]
  },
  {
   "cell_type": "markdown",
   "metadata": {},
   "source": [
    "#### 만약 Freq자체를 쓰고 싶다면 - 그대로 하면됨"
   ]
  },
  {
   "cell_type": "code",
   "execution_count": 16,
   "metadata": {},
   "outputs": [],
   "source": [
    "time_Freq_map = Used_Freq_in_(y_stft)\n",
    "# print(time_Freq_map[:10])"
   ]
  },
  {
   "cell_type": "markdown",
   "metadata": {},
   "source": [
    "#### Freq가 note로 변환된 값을 쓰고 싶다면 - 함수를 써서 diction을 변경"
   ]
  },
  {
   "cell_type": "code",
   "execution_count": 17,
   "metadata": {},
   "outputs": [],
   "source": [
    "time_MIDI_map = Freq2note(time_Freq_map)\n",
    "# print(time_MIDI_map[:10])"
   ]
  },
  {
   "cell_type": "markdown",
   "metadata": {},
   "source": [
    "### Time Point와 note 값을 구했으니 노래를 만들어보자"
   ]
  },
  {
   "cell_type": "markdown",
   "metadata": {},
   "source": [
    "#### 고려해야할 것 \n",
    "- 동일한 주파수가 어느 time point까지 진행이 되는가?\n",
    "- time point를 sec 단위로 변환해야함"
   ]
  },
  {
   "cell_type": "code",
   "execution_count": 28,
   "metadata": {},
   "outputs": [],
   "source": [
    "test_D = time_MIDI_map[:43*6]"
   ]
  },
  {
   "cell_type": "code",
   "execution_count": 29,
   "metadata": {
    "scrolled": true
   },
   "outputs": [
    {
     "data": {
      "text/plain": [
       "[[0, {}],\n",
       " [1, {}],\n",
       " [2, {}],\n",
       " [3, {}],\n",
       " [4, {48: 23.708548}],\n",
       " [5, {48: 32.094658, 60: 10.266888, 63: 10.650929}],\n",
       " [6, {36: 10.476146, 48: 34.49674, 60: 11.546207, 63: 10.07483}],\n",
       " [7, {36: 11.919179, 48: 35.86715, 60: 10.751743}],\n",
       " [8, {36: 12.501668, 48: 36.37188}],\n",
       " [9, {36: 12.776109, 48: 36.051754}],\n",
       " [10, {36: 12.61945, 48: 35.000175, 58: 10.59994}],\n",
       " [11, {36: 12.678156, 48: 33.714787, 58: 12.957831}],\n",
       " [12, {36: 13.414576, 48: 33.487198, 60: 15.639713, 62: 13.135355}],\n",
       " [13, {36: 14.007213, 48: 34.176926, 60: 18.848757, 63: 14.475451}],\n",
       " [14,\n",
       "  {36: 14.834733, 48: 34.903507, 60: 21.445255, 62: 16.467808, 65: 11.728286}],\n",
       " [15,\n",
       "  {36: 16.009512,\n",
       "   48: 36.036236,\n",
       "   60: 22.327372,\n",
       "   63: 16.266554,\n",
       "   65: 13.2681465}],\n",
       " [16, {36: 16.69096, 48: 38.244495, 60: 14.974561, 65: 13.979222}],\n",
       " [17, {36: 16.950644, 48: 41.345078, 60: 14.455003, 65: 14.278617}],\n",
       " [18, {36: 16.769669, 48: 44.771656, 60: 13.380534, 65: 14.675972}],\n",
       " [19,\n",
       "  {36: 16.03608, 48: 47.715157, 58: 15.73595, 62: 14.968297, 65: 15.167647}],\n",
       " [20,\n",
       "  {36: 15.668147, 48: 49.49189, 58: 19.392893, 62: 13.355857, 65: 15.585211}],\n",
       " [21,\n",
       "  {36: 15.1505995, 48: 49.560955, 58: 23.19827, 62: 17.418447, 65: 16.436413}],\n",
       " [22,\n",
       "  {36: 14.262169, 48: 47.732204, 58: 23.981318, 62: 17.053911, 65: 18.024654}],\n",
       " [23,\n",
       "  {36: 13.334731, 48: 44.929653, 57: 22.136854, 62: 18.771152, 65: 19.817478}],\n",
       " [24,\n",
       "  {36: 11.951701, 48: 41.183846, 57: 21.036858, 62: 22.95528, 65: 21.11151}],\n",
       " [25,\n",
       "  {36: 10.4788685, 48: 36.44314, 57: 19.70343, 62: 19.904697, 65: 21.36435}],\n",
       " [26, {48: 31.458202, 57: 18.932796, 62: 24.741325, 65: 20.847166}],\n",
       " [27, {48: 26.840933, 57: 19.558743, 62: 25.312063, 65: 20.407835}],\n",
       " [28, {48: 22.811836, 57: 21.073565, 63: 29.10243, 65: 19.844957}],\n",
       " [29, {48: 20.356646, 58: 22.772102, 62: 37.759384, 65: 18.921238}],\n",
       " [30, {48: 19.840984, 57: 21.625652, 63: 36.209915, 65: 17.621643}],\n",
       " [31,\n",
       "  {36: 11.82552, 48: 20.510784, 57: 21.724241, 62: 38.612633, 65: 16.571733}],\n",
       " [32, {36: 14.431664, 48: 22.732523, 57: 21.976755, 63: 32.6003, 65: 16.2226}],\n",
       " [33,\n",
       "  {36: 17.08762, 48: 27.31732, 57: 21.02441, 62: 22.902458, 65: 16.612576}],\n",
       " [34,\n",
       "  {36: 19.502586, 48: 33.131435, 60: 20.228727, 62: 33.310474, 65: 16.91286}],\n",
       " [35,\n",
       "  {36: 21.058352, 48: 39.240402, 60: 22.41055, 62: 23.658375, 65: 18.170319}],\n",
       " [36,\n",
       "  {36: 22.103922, 48: 45.14411, 60: 21.379269, 63: 32.001102, 65: 18.0238}],\n",
       " [37, {36: 22.67086, 48: 49.876, 60: 19.930658, 63: 37.039818, 65: 16.462841}],\n",
       " [38,\n",
       "  {36: 23.160042, 48: 54.19729, 60: 17.781858, 63: 38.000507, 65: 14.944243}],\n",
       " [39,\n",
       "  {36: 24.1577, 48: 58.84504, 60: 12.5835705, 62: 39.65922, 65: 12.691785}],\n",
       " [40,\n",
       "  {36: 25.13985, 48: 62.714443, 58: 17.139317, 63: 34.038998, 64: 12.757317}],\n",
       " [41,\n",
       "  {36: 26.54841, 48: 64.151375, 57: 20.321812, 63: 28.386875, 64: 11.950904}],\n",
       " [42, {36: 27.753063, 48: 62.95071, 58: 23.488132, 63: 19.362867}],\n",
       " [43, {36: 27.627344, 48: 59.63787, 58: 26.733322, 60: 15.979506}],\n",
       " [44, {36: 26.069706, 48: 55.38296, 58: 27.43666, 60: 13.209393}],\n",
       " [45, {36: 23.554768, 48: 50.320213, 58: 24.083792, 60: 11.348651}],\n",
       " [46,\n",
       "  {36: 20.592928, 48: 45.359745, 58: 21.72756, 60: 12.756817, 65: 11.031269}],\n",
       " [47, {36: 18.234571, 48: 41.969643, 60: 14.158508, 65: 13.400368}],\n",
       " [48, {36: 16.126396, 48: 40.27799, 60: 18.30326, 65: 16.330608}],\n",
       " [49, {36: 13.93383, 48: 40.585228, 60: 21.349657, 65: 18.756727}],\n",
       " [50, {36: 11.883227, 48: 43.124954, 60: 25.512577, 65: 19.791948}],\n",
       " [51, {48: 46.764446, 60: 29.14897, 65: 19.96364}],\n",
       " [52, {48: 50.303852, 60: 28.320246, 65: 19.926556}],\n",
       " [53, {48: 53.217632, 60: 36.635574, 63: 26.660555, 65: 19.646095}],\n",
       " [54, {48: 54.91208, 60: 32.83586, 63: 32.50148, 65: 18.880917}],\n",
       " [55, {48: 55.861496, 58: 33.291576, 63: 34.154877, 65: 18.575052}],\n",
       " [56, {48: 57.013653, 58: 35.283337, 63: 29.809267, 65: 19.419195}],\n",
       " [57,\n",
       "  {36: 10.774364, 48: 58.026947, 58: 33.647884, 63: 24.52639, 65: 20.625042}],\n",
       " [58,\n",
       "  {36: 14.318143, 48: 57.80571, 58: 27.53041, 63: 18.090403, 65: 22.906443}],\n",
       " [59,\n",
       "  {36: 16.842306, 48: 56.37882, 57: 21.095366, 62: 15.541274, 65: 25.0381}],\n",
       " [60,\n",
       "  {36: 18.88347, 48: 53.40004, 57: 16.183027, 62: 19.523745, 65: 25.323544}],\n",
       " [61,\n",
       "  {36: 20.21347,\n",
       "   48: 48.87106,\n",
       "   60: 17.2151,\n",
       "   63: 26.531029,\n",
       "   65: 22.631296,\n",
       "   67: 10.165441}],\n",
       " [62,\n",
       "  {36: 21.115938,\n",
       "   48: 43.97713,\n",
       "   60: 15.153958,\n",
       "   63: 35.463024,\n",
       "   65: 19.540379,\n",
       "   67: 10.827238}],\n",
       " [63,\n",
       "  {36: 22.21724,\n",
       "   48: 39.075233,\n",
       "   60: 12.929079,\n",
       "   63: 34.010376,\n",
       "   65: 16.792683,\n",
       "   67: 11.229197}],\n",
       " [64,\n",
       "  {36: 23.517754,\n",
       "   48: 33.25547,\n",
       "   60: 11.134862,\n",
       "   63: 25.63042,\n",
       "   65: 14.80573,\n",
       "   67: 11.394092}],\n",
       " [65,\n",
       "  {36: 24.793201, 48: 26.846737, 63: 18.219282, 65: 12.692587, 67: 11.407894}],\n",
       " [66, {36: 26.000807, 48: 21.420845, 62: 15.427065, 67: 10.9864435}],\n",
       " [67, {36: 26.161665, 48: 19.394705, 62: 12.144643, 67: 10.116867}],\n",
       " [68, {36: 25.461142, 48: 21.44811, 60: 13.852781, 62: 11.907527}],\n",
       " [69, {36: 24.769238, 48: 25.863451, 60: 15.979135, 62: 19.780668}],\n",
       " [70, {36: 23.820276, 48: 31.303778, 60: 16.923697, 63: 22.071259}],\n",
       " [71, {36: 22.863068, 48: 36.884808, 60: 17.335382, 63: 21.491346}],\n",
       " [72, {36: 21.463438, 48: 41.900173, 60: 17.313131, 63: 21.94794}],\n",
       " [73, {36: 19.340042, 48: 45.755276, 58: 19.569553, 63: 21.85133}],\n",
       " [74, {36: 17.094593, 48: 48.06623, 58: 23.763105, 62: 25.725468}],\n",
       " [75, {36: 14.590981, 48: 49.9866, 58: 24.632, 63: 22.073755}],\n",
       " [76, {36: 12.591468, 48: 52.563236, 58: 24.410835, 62: 28.985296}],\n",
       " [77, {36: 11.733079, 48: 56.189503, 58: 25.338976, 63: 20.567465}],\n",
       " [78, {36: 10.848078, 48: 60.45916, 58: 26.068035, 63: 21.31687}],\n",
       " [79, {36: 10.675249, 48: 63.136154, 58: 23.49402, 62: 21.512476}],\n",
       " [80, {36: 12.317877, 48: 64.20966, 58: 17.837479, 63: 20.607525}],\n",
       " [81,\n",
       "  {36: 15.216278, 48: 64.6432, 60: 14.922064, 63: 25.810549, 64: 12.08094}],\n",
       " [82,\n",
       "  {36: 18.354168, 48: 63.10152, 60: 21.379082, 63: 27.309357, 64: 14.520401}],\n",
       " [83,\n",
       "  {36: 20.93386, 48: 58.60766, 60: 26.895681, 63: 26.518274, 64: 10.330289}],\n",
       " [84, {36: 23.01577, 48: 52.124756, 60: 30.404352, 63: 24.009775}],\n",
       " [85, {36: 24.444763, 48: 44.450493, 60: 28.334814, 63: 18.197912}],\n",
       " [86,\n",
       "  {36: 24.90626, 48: 38.10711, 58: 23.85723, 60: 13.441697, 65: 14.837115}],\n",
       " [87,\n",
       "  {36: 25.289127, 48: 34.907932, 58: 26.53871, 60: 10.631012, 65: 17.865768}],\n",
       " [88,\n",
       "  {36: 25.914015, 48: 34.022552, 58: 27.951328, 63: 14.269676, 65: 18.40456}],\n",
       " [89,\n",
       "  {36: 26.517843, 48: 34.92937, 58: 26.30955, 63: 19.256807, 65: 17.245056}],\n",
       " [90,\n",
       "  {36: 27.675404, 48: 37.347057, 58: 26.527212, 63: 17.063505, 65: 15.527062}],\n",
       " [91,\n",
       "  {36: 28.788343, 48: 39.938927, 58: 26.804092, 63: 14.481417, 65: 14.223803}],\n",
       " [92,\n",
       "  {36: 29.11642, 48: 42.52912, 58: 28.759785, 63: 13.305959, 65: 11.5575285}],\n",
       " [93, {36: 28.443588, 48: 45.764786, 58: 25.79486, 63: 12.36399}],\n",
       " [94, {36: 26.205427, 48: 50.003197, 57: 18.572498, 62: 14.363569}],\n",
       " [95, {36: 23.011656, 48: 54.16734, 57: 15.441138, 63: 12.178996}],\n",
       " [96, {36: 20.172209, 48: 56.21713, 57: 12.111589, 63: 13.714666}],\n",
       " [97, {36: 17.574215, 48: 56.378033, 57: 10.428351, 63: 15.541213}],\n",
       " [98, {36: 15.270833, 48: 55.240215, 57: 11.927911, 62: 17.933485}],\n",
       " [99,\n",
       "  {36: 13.163904, 48: 52.232136, 57: 12.898891, 63: 16.710623, 65: 16.843498}],\n",
       " [100,\n",
       "  {36: 10.598519, 48: 47.690044, 60: 13.496458, 62: 17.522837, 65: 22.24628}],\n",
       " [101, {48: 42.788357, 60: 16.048912, 62: 23.599562, 65: 23.48194}],\n",
       " [102, {48: 37.53132, 60: 14.837071, 63: 19.03811, 65: 20.00158}],\n",
       " [103, {48: 32.26458, 60: 13.312012, 62: 19.097694, 65: 15.575572}],\n",
       " [104, {48: 27.953663, 60: 13.916572, 63: 18.22921, 65: 12.55107}],\n",
       " [105, {48: 24.516897, 60: 19.768848, 63: 18.771147, 65: 10.485188}],\n",
       " [106, {48: 21.406084, 60: 21.267708}],\n",
       " [107, {36: 11.11181, 48: 19.993656, 60: 22.547733, 64: 11.127981}],\n",
       " [108,\n",
       "  {36: 14.052241, 48: 21.046577, 60: 23.439726, 63: 27.460854, 64: 14.244051}],\n",
       " [109,\n",
       "  {36: 16.391655, 48: 24.23477, 58: 23.914417, 63: 30.221056, 64: 14.290687}],\n",
       " [110,\n",
       "  {36: 17.611813,\n",
       "   48: 29.249437,\n",
       "   58: 27.305775,\n",
       "   63: 29.759335,\n",
       "   65: 13.8734255}],\n",
       " [111,\n",
       "  {36: 18.545982, 48: 33.647423, 57: 24.366327, 63: 27.048662, 65: 17.824108}],\n",
       " [112,\n",
       "  {36: 19.56963, 48: 35.68612, 57: 22.368345, 62: 17.521978, 65: 19.291162}],\n",
       " [113,\n",
       "  {36: 20.41307, 48: 36.981056, 60: 21.233913, 62: 19.131588, 65: 17.731146}],\n",
       " [114, {36: 21.445387, 48: 38.436962, 60: 20.021841, 65: 15.144288}],\n",
       " [115, {36: 22.553108, 48: 39.466896, 60: 20.108183, 65: 12.997163}],\n",
       " [116, {36: 22.989712, 48: 39.315517, 60: 17.657545, 65: 12.11178}],\n",
       " [117, {36: 22.85862, 48: 37.977757, 60: 14.841853, 65: 12.719564}],\n",
       " [118,\n",
       "  {36: 22.133411, 48: 36.19845, 58: 18.763412, 63: 13.860485, 65: 13.579046}],\n",
       " [119,\n",
       "  {36: 21.075851, 48: 34.13943, 58: 25.343975, 62: 19.098782, 65: 13.82239}],\n",
       " [120,\n",
       "  {36: 20.382013, 48: 30.89397, 58: 28.84882, 63: 17.83291, 65: 12.993282}],\n",
       " [121,\n",
       "  {36: 19.255646, 48: 26.681477, 58: 27.881182, 63: 18.604345, 65: 12.343542}],\n",
       " [122,\n",
       "  {36: 17.645744, 48: 23.22788, 58: 26.246265, 63: 18.810263, 65: 12.950921}],\n",
       " [123,\n",
       "  {36: 16.037733, 48: 22.19987, 58: 24.45136, 63: 18.163864, 65: 14.479144}],\n",
       " [124,\n",
       "  {36: 13.942651, 48: 24.719152, 58: 20.980757, 63: 16.272564, 65: 16.326826}],\n",
       " [125,\n",
       "  {36: 12.00371, 48: 29.01303, 58: 14.069949, 63: 13.635611, 65: 17.002287}],\n",
       " [126, {36: 10.675656, 48: 33.201252, 62: 17.95188, 65: 16.976824}],\n",
       " [127, {48: 37.04615, 62: 16.117373, 65: 17.559261}],\n",
       " [128, {48: 40.30928, 58: 12.015487, 65: 16.984795}],\n",
       " [129, {48: 42.498955, 58: 16.542635, 62: 11.544157, 65: 14.290331}],\n",
       " [130,\n",
       "  {36: 11.212279, 48: 44.36602, 58: 17.917704, 62: 13.584456, 65: 11.412783}],\n",
       " [131, {36: 13.986086, 48: 46.140972, 58: 15.757475, 62: 12.761279}],\n",
       " [132, {36: 16.11077, 48: 46.93773, 60: 13.968193, 62: 15.63635}],\n",
       " [133, {36: 18.180735, 48: 46.16386, 60: 15.116889, 62: 14.702837}],\n",
       " [134, {36: 19.751806, 48: 44.170273, 60: 12.947835, 62: 11.22505}],\n",
       " [135, {36: 20.422697, 48: 40.898216, 62: 12.334106}],\n",
       " [136, {36: 20.74926, 48: 36.43653, 57: 10.284743, 63: 15.900936}],\n",
       " [137, {36: 20.910347, 48: 30.897184, 57: 12.943325, 63: 16.81271}],\n",
       " [138, {36: 21.281746, 48: 23.601713, 60: 19.326788, 63: 18.512402}],\n",
       " [139, {36: 22.06849, 48: 15.086224, 60: 23.352793, 63: 19.14116}],\n",
       " [140, {36: 22.663668, 60: 15.971831, 65: 11.383889}],\n",
       " [141, {36: 23.344517, 60: 15.249261, 65: 12.05728}],\n",
       " [142, {36: 23.367987, 57: 17.528107, 60: 12.840718, 65: 11.114692}],\n",
       " [143, {36: 22.105913, 58: 17.495926, 63: 21.081776}],\n",
       " [144, {36: 19.994484, 48: 12.805444, 58: 18.716358, 63: 24.809757}],\n",
       " [145, {36: 17.517853, 48: 14.6076355, 58: 18.5677, 63: 22.179369}],\n",
       " [146, {36: 15.097217, 48: 15.173697, 58: 15.897406, 63: 17.134787}],\n",
       " [147, {36: 13.33963, 48: 15.466539, 60: 13.256461}],\n",
       " [148, {36: 11.705026, 48: 15.277501, 60: 16.636349, 63: 14.026858}],\n",
       " [149, {48: 14.129668, 60: 16.160011, 63: 19.119925}],\n",
       " [150, {48: 12.66034, 60: 16.543083, 63: 21.685383, 65: 10.136012}],\n",
       " [151, {48: 11.450458, 60: 16.572908, 63: 18.139791, 65: 10.049733}],\n",
       " [152, {48: 10.851173, 60: 15.213462, 63: 13.324618}],\n",
       " [153, {48: 10.997227, 60: 13.608169, 63: 11.730481}],\n",
       " [154, {48: 11.403504, 58: 13.617258}],\n",
       " [155, {48: 11.819845, 58: 14.352957, 63: 11.167393}],\n",
       " [156, {48: 12.071796, 60: 12.719911, 63: 14.743744}],\n",
       " [157, {48: 11.862837, 60: 11.87102, 63: 15.0887985}],\n",
       " [158,\n",
       "  {36: 11.138915, 48: 11.460026, 60: 13.033256, 63: 14.804549, 65: 10.626622}],\n",
       " [159,\n",
       "  {36: 12.356532, 48: 11.31271, 60: 12.156352, 63: 16.110432, 65: 10.144411}],\n",
       " [160, {36: 13.338533, 48: 12.591127, 60: 12.316964, 63: 16.867191}],\n",
       " [161, {36: 14.0596895, 48: 15.61215, 60: 14.039666, 63: 18.125204}],\n",
       " [162, {36: 14.554609, 48: 19.278841, 60: 14.445846, 63: 17.629732}],\n",
       " [163, {36: 15.277943, 48: 23.759287, 60: 15.553009, 63: 16.191381}],\n",
       " [164, {36: 15.992551, 48: 28.7683, 58: 14.489379, 63: 14.539013}],\n",
       " [165, {36: 16.49763, 48: 32.91337, 58: 14.306249, 63: 13.39061}],\n",
       " [166, {36: 16.768091, 48: 34.959766, 58: 12.005369, 62: 11.006569}],\n",
       " [167, {36: 16.21372, 48: 34.904552}],\n",
       " [168, {36: 15.233277, 48: 33.90636, 63: 10.179371}],\n",
       " [169, {36: 14.605994, 48: 32.264572, 63: 19.33018}],\n",
       " [170,\n",
       "  {36: 13.696686, 48: 29.401155, 60: 11.633654, 63: 22.682924, 64: 10.160651}],\n",
       " [171, {36: 12.772111, 48: 25.135584, 60: 12.403966, 63: 20.522726}],\n",
       " [172, {36: 11.783257, 48: 20.544193, 60: 11.662388, 63: 16.077772}],\n",
       " [173, {36: 10.396216, 48: 16.35256, 60: 10.700498}],\n",
       " [174, {48: 13.569677, 60: 10.950361}],\n",
       " [175, {48: 19.023312, 60: 10.746491}],\n",
       " [176, {48: 32.313366, 53: 17.599161, 60: 13.694086, 63: 14.668856}],\n",
       " [177, {48: 42.56542, 53: 28.07214, 58: 15.270667, 63: 19.533766}],\n",
       " [178,\n",
       "  {48: 48.781464, 53: 35.48267, 58: 23.768206, 63: 24.832756, 67: 12.397964}],\n",
       " [179,\n",
       "  {48: 52.12423,\n",
       "   53: 40.92577,\n",
       "   58: 32.98529,\n",
       "   63: 30.521282,\n",
       "   64: 10.1610365,\n",
       "   67: 16.692205}],\n",
       " [180,\n",
       "  {48: 50.01352, 53: 43.844364, 58: 36.581264, 63: 31.599531, 67: 16.100252}],\n",
       " [181,\n",
       "  {48: 45.160297, 53: 45.364983, 57: 39.522587, 62: 33.011787, 67: 11.369835}],\n",
       " [182,\n",
       "  {36: 10.4974165, 48: 42.17724, 53: 47.268288, 57: 41.474415, 62: 18.846205}],\n",
       " [183, {36: 11.413872, 48: 41.738464, 53: 48.532585, 57: 36.480385}],\n",
       " [184,\n",
       "  {36: 11.965941,\n",
       "   48: 43.245132,\n",
       "   53: 45.955288,\n",
       "   57: 27.148533,\n",
       "   62: 11.657147,\n",
       "   67: 10.591119,\n",
       "   72: 10.675534}],\n",
       " [185,\n",
       "  {36: 12.4175,\n",
       "   48: 45.68939,\n",
       "   53: 39.459263,\n",
       "   57: 18.294533,\n",
       "   62: 15.244654,\n",
       "   67: 16.567095,\n",
       "   72: 10.043438}],\n",
       " [186,\n",
       "  {36: 12.392859,\n",
       "   48: 46.95855,\n",
       "   53: 31.030096,\n",
       "   58: 13.055885,\n",
       "   63: 16.831015,\n",
       "   67: 18.585154}],\n",
       " [187,\n",
       "  {36: 12.359334, 48: 46.04156, 53: 22.555439, 63: 16.216646, 67: 15.244796}],\n",
       " [188,\n",
       "  {36: 12.4914255,\n",
       "   48: 43.756516,\n",
       "   53: 15.514138,\n",
       "   63: 14.555811,\n",
       "   67: 11.246101}],\n",
       " [189,\n",
       "  {36: 12.831308,\n",
       "   48: 40.4555,\n",
       "   53: 10.283521,\n",
       "   60: 10.966114,\n",
       "   62: 11.737178,\n",
       "   67: 13.78202}],\n",
       " [190, {36: 13.294797, 48: 35.63307, 58: 13.8867445, 67: 15.208852}],\n",
       " [191, {36: 13.515083, 48: 29.483095, 58: 15.271938, 62: 11.569237}],\n",
       " [192, {36: 13.038827, 48: 22.735132, 58: 15.099575, 63: 18.419289}],\n",
       " [193,\n",
       "  {36: 12.253606, 48: 16.168858, 58: 11.663835, 63: 25.289263, 64: 10.466524}],\n",
       " [194, {36: 10.879885, 48: 10.065438, 63: 31.347063, 64: 14.008427}],\n",
       " [195, {63: 34.110264, 64: 14.9627075}],\n",
       " [196, {60: 10.8985815, 63: 30.80644, 64: 16.72442, 72: 11.916549}],\n",
       " [197, {60: 13.033268, 63: 25.910208, 64: 13.728502, 72: 13.292461}],\n",
       " [198,\n",
       "  {53: 10.518564, 57: 17.099476, 63: 23.303938, 65: 11.719426, 72: 14.020271}],\n",
       " [199,\n",
       "  {53: 11.815615, 57: 25.826204, 63: 22.354504, 65: 10.827702, 72: 12.718667}],\n",
       " [200,\n",
       "  {53: 12.879682, 57: 34.174984, 63: 19.731644, 67: 10.122067, 70: 10.709305}],\n",
       " [201,\n",
       "  {53: 13.647512, 57: 39.996986, 63: 14.330606, 67: 17.064442, 70: 14.366804}],\n",
       " [202,\n",
       "  {53: 14.35397, 57: 38.64666, 62: 10.772921, 67: 25.985374, 70: 15.598841}],\n",
       " [203, {53: 15.953047, 57: 30.030972, 67: 34.497112, 70: 13.611007}],\n",
       " [204, {48: 10.973631, 53: 18.029444, 57: 18.137182, 67: 40.14112}],\n",
       " [205,\n",
       "  {48: 11.965062, 53: 20.634804, 62: 15.217341, 65: 10.333902, 67: 41.596485}],\n",
       " [206,\n",
       "  {48: 11.503577, 53: 23.233057, 62: 19.227451, 65: 14.673808, 67: 42.333164}],\n",
       " [207,\n",
       "  {53: 24.943224, 57: 12.735331, 63: 16.274755, 65: 19.538095, 67: 48.26639}],\n",
       " [208,\n",
       "  {53: 26.26874, 57: 16.784348, 62: 15.879958, 65: 24.875183, 67: 50.72014}],\n",
       " [209,\n",
       "  {53: 26.981583, 57: 18.301071, 62: 13.501299, 65: 29.791313, 67: 42.546577}],\n",
       " [210,\n",
       "  {53: 25.044874, 58: 20.05211, 62: 12.780993, 65: 33.048054, 67: 29.816418}],\n",
       " [211,\n",
       "  {53: 20.147371, 57: 21.41549, 63: 14.780188, 65: 33.46047, 67: 18.507998}],\n",
       " [212,\n",
       "  {53: 13.808576, 57: 22.330858, 63: 18.117302, 65: 30.80448, 67: 10.42559}],\n",
       " [213, {57: 21.243744, 63: 20.68842, 65: 25.831015}],\n",
       " [214, {48: 11.15578, 57: 17.946648, 63: 22.938932, 65: 19.040695}],\n",
       " [215,\n",
       "  {48: 12.4499445,\n",
       "   57: 13.029553,\n",
       "   63: 28.827255,\n",
       "   65: 12.695856,\n",
       "   70: 10.744383}],\n",
       " [216,\n",
       "  {48: 11.97752, 53: 12.909373, 60: 13.601411, 63: 36.623535, 64: 11.796216}],\n",
       " [217, {53: 14.749467, 60: 15.566325, 63: 38.57007, 64: 10.42786}],\n",
       " [218, {53: 15.350206, 60: 18.441895, 63: 32.957527, 67: 11.750938}],\n",
       " [219, {53: 14.994188, 60: 21.275448, 63: 24.32492}],\n",
       " [220, {53: 14.492898, 60: 14.988515}],\n",
       " [221, {53: 14.479069, 60: 15.875375}],\n",
       " [222, {53: 14.414275, 60: 16.32643}],\n",
       " [223,\n",
       "  {53: 13.861984, 57: 23.189999, 60: 14.626802, 65: 11.747905, 67: 13.219097}],\n",
       " [224,\n",
       "  {53: 12.297409, 57: 22.537802, 60: 12.209649, 65: 13.535459, 67: 21.58126}],\n",
       " [225,\n",
       "  {53: 10.391071,\n",
       "   58: 23.600525,\n",
       "   60: 10.500023,\n",
       "   65: 12.1910715,\n",
       "   67: 31.243362}],\n",
       " [226,\n",
       "  {48: 11.378825, 58: 24.260471, 62: 12.696773, 65: 11.024095, 67: 35.73417}],\n",
       " [227,\n",
       "  {48: 12.03994, 58: 27.652796, 63: 17.576069, 65: 12.174953, 67: 31.17404}],\n",
       " [228,\n",
       "  {48: 11.85996, 58: 33.39305, 63: 24.581892, 65: 12.002499, 67: 20.60974}],\n",
       " [229,\n",
       "  {48: 11.365679, 57: 38.057865, 63: 31.51224, 64: 10.226734, 67: 10.700172}],\n",
       " [230, {48: 10.528256, 57: 43.813538, 63: 36.612774, 64: 12.153555}],\n",
       " [231, {57: 42.569565, 63: 35.0923, 64: 12.281937}],\n",
       " [232, {57: 36.313057, 63: 26.720928, 64: 10.379432}],\n",
       " [233, {48: 10.626356, 57: 29.50157, 63: 17.481363}],\n",
       " [234, {48: 11.36138, 57: 24.06861, 63: 11.971445}],\n",
       " [235, {48: 11.950762, 57: 18.965237, 63: 11.44804, 67: 10.463157}],\n",
       " [236, {48: 12.429856, 57: 13.756477, 62: 12.935721}],\n",
       " [237, {48: 12.866262, 60: 14.661413, 63: 11.438416}],\n",
       " [238, {48: 13.191726, 60: 19.803192}],\n",
       " [239, {48: 13.049375, 53: 10.751193, 60: 11.877309}],\n",
       " [240, {48: 12.273452, 53: 11.772045, 60: 12.474884, 67: 10.115986}],\n",
       " [241, {48: 10.745127, 53: 12.786018, 60: 11.659281, 67: 10.532824}],\n",
       " [242, {53: 13.858354, 60: 22.832706, 62: 10.871969, 67: 11.175474}],\n",
       " [243, {53: 15.278866, 60: 19.638208, 62: 14.658698, 67: 11.846948}],\n",
       " [244,\n",
       "  {53: 17.7176, 60: 16.615082, 63: 11.785589, 65: 11.147302, 67: 12.738929}],\n",
       " [245,\n",
       "  {53: 21.80099, 60: 14.191047, 62: 10.783633, 65: 15.163618, 67: 14.38722}],\n",
       " [246, {53: 26.976974, 60: 10.941098, 65: 17.19546, 67: 16.268236}],\n",
       " [247, {53: 31.6915, 65: 16.901491, 67: 17.189754}],\n",
       " [248,\n",
       "  {53: 34.19806, 57: 10.51212, 63: 11.878003, 65: 15.240776, 67: 16.815653}],\n",
       " [249,\n",
       "  {53: 33.95183, 57: 11.527336, 63: 15.477595, 65: 12.683101, 67: 14.79474}],\n",
       " [250, {53: 31.409254, 57: 10.970868, 63: 20.044687, 67: 12.4192}],\n",
       " [251, {53: 27.71722, 63: 25.935625, 64: 10.279952, 67: 11.8269415}],\n",
       " [252, {53: 24.2167, 63: 29.374378, 64: 10.593095, 67: 12.63207}],\n",
       " [253, {53: 21.713366, 63: 28.17685, 67: 13.77384}],\n",
       " [254, {53: 19.898643, 63: 22.531261, 67: 14.098283}],\n",
       " [255, {53: 18.280859, 57: 12.7220745, 63: 15.071453, 67: 12.870683}],\n",
       " [256, {48: 12.654785, 53: 16.712603, 57: 14.945237}],\n",
       " [257, {48: 16.597475, 53: 15.166723, 57: 16.766823, 70: 10.717164}]]"
      ]
     },
     "execution_count": 29,
     "metadata": {},
     "output_type": "execute_result"
    }
   ],
   "source": [
    "test_D"
   ]
  },
  {
   "cell_type": "code",
   "execution_count": 103,
   "metadata": {
    "scrolled": true
   },
   "outputs": [
    {
     "name": "stdout",
     "output_type": "stream",
     "text": [
      "[]\n",
      "[]\n",
      "[]\n",
      "[]\n",
      "[48]\n",
      "[48, 60, 63]\n",
      "[36, 48, 60, 63]\n",
      "[36, 48, 60]\n",
      "[36, 48]\n",
      "[36, 48]\n",
      "[36, 48, 58]\n",
      "[36, 48, 58]\n",
      "[36, 48, 60, 62]\n",
      "[36, 48, 60, 63]\n"
     ]
    }
   ],
   "source": [
    "note_bundle = []\n",
    "\n",
    "time_points = []\n",
    "notes = []\n",
    "notes_duration = []\n",
    "\n",
    "v_min = 35\n",
    "v_max = 127\n",
    "volumes = []\n",
    "\n",
    "find_note = []\n",
    "\n",
    "for timepoint, note_data in test_D:\n",
    "    \n",
    "    note_data = list(note_data.keys())\n",
    "    \n",
    "    for i in range(len(note_data)):\n",
    "        if note_data[i] not in note_bundle:\n",
    "            note_bundle.append(note_data[i])\n",
    "    \n",
    "    print(note_data)\n",
    "    \n",
    "    if timepoint >= 13:\n",
    "        break\n",
    "    \n",
    "\n"
   ]
  },
  {
   "cell_type": "code",
   "execution_count": 104,
   "metadata": {},
   "outputs": [
    {
     "data": {
      "text/plain": [
       "[48, 60, 63, 36, 58, 62]"
      ]
     },
     "execution_count": 104,
     "metadata": {},
     "output_type": "execute_result"
    }
   ],
   "source": [
    "note_bundle"
   ]
  },
  {
   "cell_type": "code",
   "execution_count": 93,
   "metadata": {},
   "outputs": [],
   "source": [
    "note_bundle = []\n",
    "\n",
    "time_points = []\n",
    "notes = []\n",
    "\n",
    "notes_duration = []\n",
    "\n",
    "for i in range(len(test_D)):\n",
    "    \n",
    "    for note, volume in test_D[i][1].items():\n",
    "        \n",
    "        if note not in note_bundle:\n",
    "            note_bundle.append(note)\n",
    "            \n",
    "        \n",
    "        \n",
    "        \n",
    "        time_points.append(i)\n",
    "        notes.append(note)\n",
    "        volumes.append(int(volume))\n",
    "        \n",
    "    \n",
    "    if i == 10:\n",
    "        break\n",
    "\n",
    "        "
   ]
  },
  {
   "cell_type": "code",
   "execution_count": 94,
   "metadata": {},
   "outputs": [
    {
     "name": "stdout",
     "output_type": "stream",
     "text": [
      "[48, 60, 63, 36, 58]\n"
     ]
    }
   ],
   "source": [
    "print(note_bundle)"
   ]
  },
  {
   "cell_type": "code",
   "execution_count": 18,
   "metadata": {},
   "outputs": [],
   "source": [
    "test_F = time_MIDI_map"
   ]
  },
  {
   "cell_type": "markdown",
   "metadata": {},
   "source": [
    "#### 구한 데이터 포인트를 저장해서 사용할 준비를 하자"
   ]
  },
  {
   "cell_type": "code",
   "execution_count": 21,
   "metadata": {},
   "outputs": [],
   "source": [
    "duration_beats = length_in_sec ## 지금은 노래를 다시 불러오는 튜토리얼 이므로 length_in_sec를 그대로 들고왔다\n",
    "\n",
    "bpm = 60 # if bpm = 60, 1beat = 1sec\n",
    "\n",
    "duration_sec = duration_beats * 60/bpm"
   ]
  },
  {
   "cell_type": "code",
   "execution_count": 22,
   "metadata": {},
   "outputs": [],
   "source": [
    "time_points = []\n",
    "notes = []\n",
    "\n",
    "v_min = 35\n",
    "v_max = 127\n",
    "volumes = []\n",
    "\n",
    "\n",
    "for i in range(len(test_D)):\n",
    "    \n",
    "    for note, volume in test_D[i][1].items():\n",
    "        time_points.append(i)\n",
    "        notes.append(note)\n",
    "        volumes.append(int(volume))\n",
    "\n",
    "\n",
    "time_data = map_value(np.array(time_points), 0, max(time_points), 0, duration_sec)\n",
    "notes = np.array(notes)\n"
   ]
  },
  {
   "cell_type": "code",
   "execution_count": 23,
   "metadata": {
    "scrolled": false
   },
   "outputs": [
    {
     "name": "stdout",
     "output_type": "stream",
     "text": [
      "Time_point's len :  1063\n",
      "   Note's len    :  1063\n",
      "  Volume's len   :  1063\n"
     ]
    }
   ],
   "source": [
    "print(\"Time_point's len : \",len(time_points))\n",
    "print(\"   Note's len    : \",len(notes))\n",
    "print(\"  Volume's len   : \",len(volumes))"
   ]
  },
  {
   "cell_type": "markdown",
   "metadata": {},
   "source": [
    "##### Time point를 sec 형으로 변환"
   ]
  },
  {
   "cell_type": "code",
   "execution_count": 24,
   "metadata": {
    "scrolled": false
   },
   "outputs": [
    {
     "data": {
      "text/plain": [
       "Text(0, 0.5, 'Number of Notes[Midi_note]')"
      ]
     },
     "execution_count": 24,
     "metadata": {},
     "output_type": "execute_result"
    },
    {
     "data": {
      "image/png": "[encoded data removed]",
      "text/plain": [
       "<Figure size 1440x720 with 1 Axes>"
      ]
     },
     "metadata": {
      "needs_background": "light"
     },
     "output_type": "display_data"
    }
   ],
   "source": [
    "a = 0\n",
    "b = 500\n",
    "plt.figure(figsize = (20,10))\n",
    "plt.scatter(time_data[a:b], notes[a:b], s = volumes[a:b])\n",
    "plt.xlabel(\"Time [sec]\")\n",
    "plt.ylabel(\"Number of Notes[Midi_note]\")"
   ]
  },
  {
   "cell_type": "markdown",
   "metadata": {},
   "source": [
    "### END"
   ]
  },
  {
   "cell_type": "markdown",
   "metadata": {},
   "source": [
    "#####  duration 다시공부하기 the time during which something continues"
   ]
  },
  {
   "cell_type": "code",
   "execution_count": 88,
   "metadata": {},
   "outputs": [],
   "source": [
    "from midiutil import MIDIFile #import library to make midi file, https://midiutil.readthedocs.io/en/1.2.1/\n",
    "\n",
    "filename = \"test\"\n",
    "#create midi file object, add tempo\n",
    "my_midi_file = MIDIFile(1) #one track \n",
    "my_midi_file.addTempo(track=0, time=0, tempo=bpm) \n",
    "\n",
    "#add midi notes\n",
    "for i in range(len(time_points)):\n",
    "    my_midi_file.addNote(track=0, channel=0, pitch=notes[i], time=time_data[i], duration=10, volume=volumes[i]+40)\n",
    "\n",
    "#create and save the midi file itself\n",
    "with open(filename + '.mid', \"wb\") as f:\n",
    "    my_midi_file.writeFile(f) \n"
   ]
  },
  {
   "cell_type": "code",
   "execution_count": null,
   "metadata": {},
   "outputs": [],
   "source": []
  },
  {
   "cell_type": "code",
   "execution_count": null,
   "metadata": {},
   "outputs": [],
   "source": []
  },
  {
   "cell_type": "code",
   "execution_count": null,
   "metadata": {},
   "outputs": [],
   "source": []
  },
  {
   "cell_type": "code",
   "execution_count": null,
   "metadata": {
    "ExecuteTime": {
     "end_time": "2022-08-16T02:48:35.528054Z",
     "start_time": "2022-08-16T02:48:35.331028Z"
    },
    "scrolled": true
   },
   "outputs": [],
   "source": [
    "abs_ystft = np.abs(y_stft)\n",
    "print(abs_ystft[0])"
   ]
  },
  {
   "cell_type": "code",
   "execution_count": null,
   "metadata": {
    "ExecuteTime": {
     "end_time": "2022-08-16T02:48:36.248694Z",
     "start_time": "2022-08-16T02:48:36.223671Z"
    }
   },
   "outputs": [],
   "source": [
    "a = y_stft[:,:43*3]"
   ]
  },
  {
   "cell_type": "code",
   "execution_count": null,
   "metadata": {
    "ExecuteTime": {
     "end_time": "2022-08-16T02:48:37.827802Z",
     "start_time": "2022-08-16T02:48:36.929343Z"
    }
   },
   "outputs": [],
   "source": [
    "fig, ax = plt.subplots(figsize = (20,10))\n",
    "img = librosa.display.specshow(a, x_axis = 'time', y_axis='log',ax = ax)\n",
    "fig.colorbar(img, ax=ax, format=\"%+2.0f dB\")\n",
    "plt.show()"
   ]
  },
  {
   "cell_type": "markdown",
   "metadata": {},
   "source": [
    "### sr는 sample rate로 1초당 데이터를 얼마나 분할한지 확인 가능"
   ]
  },
  {
   "cell_type": "code",
   "execution_count": null,
   "metadata": {
    "ExecuteTime": {
     "end_time": "2022-08-15T07:26:00.407646Z",
     "start_time": "2022-08-15T07:26:00.393325Z"
    }
   },
   "outputs": [],
   "source": [
    "print(y.shape)\n",
    "print(sr)\n",
    "\n",
    "\n",
    "test = int(y.shape[0]/sr)\n",
    "test"
   ]
  },
  {
   "cell_type": "markdown",
   "metadata": {},
   "source": [
    "#### bpm을 기준으로 단위로 새롭게 resample 해서 beat음을 받을까 생각중"
   ]
  },
  {
   "cell_type": "markdown",
   "metadata": {},
   "source": [
    "##### 4분음표 기준 0.5초, librosa 기준 1초에 22050의 데이터 포인트가 default"
   ]
  },
  {
   "cell_type": "code",
   "execution_count": null,
   "metadata": {},
   "outputs": [],
   "source": []
  },
  {
   "cell_type": "markdown",
   "metadata": {},
   "source": [
    "#### 음향 정보 잠깐 확인"
   ]
  },
  {
   "cell_type": "code",
   "execution_count": null,
   "metadata": {
    "ExecuteTime": {
     "end_time": "2022-08-14T14:30:40.288116Z",
     "start_time": "2022-08-14T14:30:40.211972Z"
    }
   },
   "outputs": [],
   "source": [
    "muzdata_normalized = map_value(y, min(y),max(y),0,2)\n",
    "\n",
    "muz_norm_head = muzdata_normalized[0:100]\n"
   ]
  },
  {
   "cell_type": "code",
   "execution_count": null,
   "metadata": {
    "ExecuteTime": {
     "end_time": "2022-08-14T14:31:37.322839Z",
     "start_time": "2022-08-14T14:31:36.973273Z"
    },
    "scrolled": true
   },
   "outputs": [],
   "source": [
    "sr_point = SR_point(muz_norm_head)\n",
    "\n",
    "plt.scatter(sr_point, y[0:100], s = 1)"
   ]
  },
  {
   "cell_type": "markdown",
   "metadata": {},
   "source": [
    "### note data 받아오기"
   ]
  },
  {
   "cell_type": "code",
   "execution_count": null,
   "metadata": {
    "ExecuteTime": {
     "end_time": "2022-08-14T14:00:59.483135Z",
     "start_time": "2022-08-14T14:00:59.458051Z"
    }
   },
   "outputs": [],
   "source": [
    "note_names = ['C1','D1','E1','G1','A1',\n",
    "             'C2','D2','E2','G2','A2',\n",
    "             'C3','D3','E3','G3','A3',\n",
    "             'C4','D4','E4','G4','A4',\n",
    "             'C5','D5','E5','G5','A5',\n",
    "             'C6','D6','E6','G6','A6']\n",
    "\n",
    "note_names = ['C1','D1','E1','F1','G1','A1','B1',\n",
    "             'C2','D2','E2','F2','G2','A2','B2',\n",
    "             'C3','D3','E3','F3','G3','A3','B3',\n",
    "             'C4','D4','E4','F4','G4','A4','B4',\n",
    "             'C5','D5','E5','F5','G5','A5','B5',\n",
    "             'C6','D6','E6','F6','G6','A6','B6']\n",
    "note_midis = [str2midi(n) for n in note_names] #make a list of midi note numbers \n",
    "\n",
    "n_notes = len(note_midis)\n",
    "print('Resolution:',n_notes, 'notes')\n",
    "# if you want higher just choose more number of midis\n",
    "print(note_midis)"
   ]
  },
  {
   "cell_type": "code",
   "execution_count": null,
   "metadata": {
    "ExecuteTime": {
     "end_time": "2022-08-14T14:01:11.188062Z",
     "start_time": "2022-08-14T14:01:10.455213Z"
    }
   },
   "outputs": [],
   "source": [
    "midi_data = []\n",
    "for i in range(len(muz_norm_head)):\n",
    "    note_index = round(map_value(muz_norm_head[i], min(muz_norm_head), max(muz_norm_head), n_notes-1, 0))\n",
    "    \n",
    "    midi_data.append(note_midis[note_index])\n"
   ]
  },
  {
   "cell_type": "code",
   "execution_count": null,
   "metadata": {},
   "outputs": [],
   "source": []
  }
 ],
 "metadata": {
  "kernelspec": {
   "display_name": "Python 3 (ipykernel)",
   "language": "python",
   "name": "python3"
  },
  "language_info": {
   "codemirror_mode": {
    "name": "ipython",
    "version": 3
   },
   "file_extension": ".py",
   "mimetype": "text/x-python",
   "name": "python",
   "nbconvert_exporter": "python",
   "pygments_lexer": "ipython3",
   "version": "3.8.13"
  },
  "toc": {
   "base_numbering": 1,
   "nav_menu": {},
   "number_sections": true,
   "sideBar": true,
   "skip_h1_title": false,
   "title_cell": "Table of Contents",
   "title_sidebar": "Contents",
   "toc_cell": false,
   "toc_position": {},
   "toc_section_display": true,
   "toc_window_display": false
  },
  "varInspector": {
   "cols": {
    "lenName": 16,
    "lenType": 16,
    "lenVar": 40
   },
   "kernels_config": {
    "python": {
     "delete_cmd_postfix": "",
     "delete_cmd_prefix": "del ",
     "library": "var_list.py",
     "varRefreshCmd": "print(var_dic_list())"
    },
    "r": {
     "delete_cmd_postfix": ") ",
     "delete_cmd_prefix": "rm(",
     "library": "var_list.r",
     "varRefreshCmd": "cat(var_dic_list()) "
    }
   },
   "types_to_exclude": [
    "module",
    "function",
    "builtin_function_or_method",
    "instance",
    "_Feature"
   ],
   "window_display": false
  }
 },
 "nbformat": 4,
 "nbformat_minor": 4
}
