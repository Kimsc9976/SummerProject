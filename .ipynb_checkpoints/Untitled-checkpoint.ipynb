{
 "cells": [
  {
   "cell_type": "code",
   "execution_count": 45,
   "id": "bf1de488",
   "metadata": {},
   "outputs": [],
   "source": [
    "import cv2\n",
    "import numpy as np"
   ]
  },
  {
   "cell_type": "code",
   "execution_count": 46,
   "id": "408501da",
   "metadata": {
    "scrolled": true
   },
   "outputs": [],
   "source": [
    "img = cv2.imread('./_test_img_000.png', cv2.IMREAD_COLOR)\n",
    "\n",
    "# cv2.line(img, point1_0, point1_1,(0,255,255), 1)\n",
    "# cv2.line(img, point1_2, point1_3,(0,255,255), 1)\n",
    "\n",
    "# cv2.rectangle(img,(185,0,280-185,width),(255,255,255),1)\n",
    "\n",
    "\n",
    "width = img.shape[0]\n",
    "length = img.shape[1]\n",
    "\n",
    "\n",
    "roi = img[0:width, 185:280]\n",
    "\n",
    "cv2.imshow('img', roi)\n",
    "cv2.waitKey(0)\n",
    "cv2.destroyAllWindows()\n",
    "\n"
   ]
  },
  {
   "cell_type": "code",
   "execution_count": 39,
   "id": "8b28f0ef",
   "metadata": {},
   "outputs": [
    {
     "name": "stdout",
     "output_type": "stream",
     "text": [
      "286 502\n"
     ]
    }
   ],
   "source": [
    "point1_0 = [222, 0]\n",
    "point1_1 = [222, width]\n",
    "\n",
    "point1_2 = [320,0]\n",
    "point1_3 = [320,width]\n",
    "print(width, length)\n",
    "\n",
    "# point1_0 = [185, 0]\n",
    "# point1_1 = [185, width]\n",
    "\n",
    "# point1_2 = [280,0]\n",
    "# point1_3 = [280,width]\n",
    "# print(width, length)"
   ]
  },
  {
   "cell_type": "code",
   "execution_count": 40,
   "id": "e04d85ad",
   "metadata": {},
   "outputs": [
    {
     "data": {
      "text/plain": [
       "(286, 95, 3)"
      ]
     },
     "execution_count": 40,
     "metadata": {},
     "output_type": "execute_result"
    }
   ],
   "source": [
    "roi.shape"
   ]
  },
  {
   "cell_type": "code",
   "execution_count": 6,
   "id": "c1818298",
   "metadata": {},
   "outputs": [],
   "source": [
    "move = -100\n",
    "M = np.float32([[1,0,0],\n",
    "              [0,1,move]])\n",
    "\n",
    "roi4move = img[0:width, 222:320]\n",
    "\n",
    "shift = cv2.warpAffine(roi4move, M, (roi.shape[1], roi.shape[0]))\n",
    "cv2.rectangle(shift,(0, roi.shape[0] + move - 5),(roi.shape[1], roi.shape[0]), (246,182,62), -1)\n",
    "\n",
    "cv2.imshow('img',shift)\n",
    "cv2.waitKey(0)\n",
    "cv2.destroyAllWindows()\n",
    "        "
   ]
  },
  {
   "cell_type": "code",
   "execution_count": 7,
   "id": "5c53c06e",
   "metadata": {},
   "outputs": [
    {
     "data": {
      "text/plain": [
       "'./test_img_000.png'"
      ]
     },
     "execution_count": 7,
     "metadata": {},
     "output_type": "execute_result"
    }
   ],
   "source": [
    "'./test_img_{:03d}.png'.format(0)"
   ]
  },
  {
   "cell_type": "code",
   "execution_count": 41,
   "id": "ee4555e8",
   "metadata": {},
   "outputs": [
    {
     "data": {
      "text/plain": [
       "286"
      ]
     },
     "execution_count": 41,
     "metadata": {},
     "output_type": "execute_result"
    }
   ],
   "source": [
    "width"
   ]
  },
  {
   "cell_type": "code",
   "execution_count": 42,
   "id": "deafc6b0",
   "metadata": {},
   "outputs": [],
   "source": [
    "for i in range(width//move * 2):\n",
    "    print(i)"
   ]
  },
  {
   "cell_type": "code",
   "execution_count": 43,
   "id": "afe61e1c",
   "metadata": {},
   "outputs": [],
   "source": [
    "shift = cv2.warpAffine(roi, M,(roi.shape[1], roi.shape[0]))\n",
    "cv2.rectangle(shift,(0, roi.shape[0] + move),(roi.shape[1], roi.shape[0]), (226,156,50), -1)\n",
    "cv2.imshow('img',shift)\n",
    "cv2.waitKey(0)\n",
    "cv2.destroyAllWindows()"
   ]
  },
  {
   "cell_type": "code",
   "execution_count": 31,
   "id": "1b44f8db",
   "metadata": {},
   "outputs": [
    {
     "data": {
      "text/plain": [
       "286"
      ]
     },
     "execution_count": 31,
     "metadata": {},
     "output_type": "execute_result"
    }
   ],
   "source": [
    "roi.shape[0]"
   ]
  },
  {
   "cell_type": "code",
   "execution_count": 51,
   "id": "987acd3c",
   "metadata": {},
   "outputs": [
    {
     "data": {
      "text/plain": [
       "-29"
      ]
     },
     "execution_count": 51,
     "metadata": {},
     "output_type": "execute_result"
    }
   ],
   "source": [
    "width//move"
   ]
  },
  {
   "cell_type": "code",
   "execution_count": 55,
   "id": "9d882d71",
   "metadata": {},
   "outputs": [],
   "source": [
    "diff = 10\n",
    "M = np.float32([[1,0,0],\n",
    "              [0,1,move]])\n",
    "\n",
    "\n",
    "for i in range(width//diff * 2):\n",
    "    \n",
    "    if i<= (width//diff) :\n",
    "        \n",
    "        move = 280 - diff*i\n",
    "    \n",
    "    else:\n",
    "        move = - diff\n",
    "        \n",
    "        \n",
    "    M = np.float32([[1,0,0],\n",
    "              [0,1,move]])\n",
    "    \n",
    "    \n",
    "    img4save = cv2.imread('./test_img_{:03d}.png'.format(i), cv2.IMREAD_COLOR)\n",
    "    \n",
    "\n",
    "    \n",
    "    if i<=(width//diff):\n",
    "        roi4move = img[0:width, 185:280]\n",
    "    \n",
    "        shift = cv2.warpAffine(roi4move, M, (roi.shape[1], roi.shape[0]))\n",
    "        cv2.rectangle(shift,(0,0),(280-185, move + 5), (226,156,50), -1)\n",
    "#         cv2.imshow('img',shift)\n",
    "#         cv2.waitKey(0)\n",
    "#         cv2.destroyAllWindows()\n",
    "        \n",
    "    else:    \n",
    "        roi = img4save[0:width, 185:280]\n",
    "    \n",
    "        shift = cv2.warpAffine(roi, M,(roi.shape[1], roi.shape[0]))\n",
    "\n",
    "        cv2.rectangle(shift,(0, roi.shape[0] + move-5),(roi.shape[1], roi.shape[0]), (226,156,50), -1)\n",
    "#         cv2.imshow('img',shift)\n",
    "#         cv2.waitKey(0)\n",
    "#         cv2.destroyAllWindows()\n",
    "    \n",
    "    img4save[0:width, 185:280] = shift\n",
    "    \n",
    "    filename = './test_img_{:03d}.png'.format(i+1)\n",
    "    cv2.imwrite(filename,img4save)\n"
   ]
  },
  {
   "cell_type": "code",
   "execution_count": 17,
   "id": "0379fcfd",
   "metadata": {},
   "outputs": [],
   "source": [
    "import os\n",
    "from PIL import Image\n",
    "from IPython.display import Image as Img\n",
    "from IPython.display import display"
   ]
  },
  {
   "cell_type": "code",
   "execution_count": 18,
   "id": "205b1f8e",
   "metadata": {},
   "outputs": [],
   "source": [
    "def generate_gif(path):\n",
    "    img_list = os.listdir(path)\n",
    "    img_list = [path + '/' + x for x in img_list]\n",
    "    images = [Image.open(x) for x in img_list]\n",
    "    \n",
    "    im = images[0]\n",
    "    im.save('out.gif', save_all=True, append_images=images[1:],loop=0xff, duration=500)\n",
    "    # loop 반복 횟수\n",
    "    # duration 프레임 전환 속도 (500 = 0.5초)\n",
    "    return Img(url='out.gif')"
   ]
  },
  {
   "cell_type": "code",
   "execution_count": 56,
   "id": "7ec78962",
   "metadata": {},
   "outputs": [],
   "source": [
    "lst = os.listdir('./new2')\n",
    "lst = ['./new2' + '/' + x for x in lst]\n",
    "images = [Image.open(x) for x in lst]\n",
    "im = images[0]\n",
    "im.save('out1.gif', save_all=True, append_images=images[1:],loop=0xff, duration=100)\n"
   ]
  },
  {
   "cell_type": "code",
   "execution_count": null,
   "id": "fd00521a",
   "metadata": {},
   "outputs": [],
   "source": [
    "print(lst)"
   ]
  },
  {
   "cell_type": "code",
   "execution_count": null,
   "id": "574b25bf",
   "metadata": {},
   "outputs": [],
   "source": []
  }
 ],
 "metadata": {
  "kernelspec": {
   "display_name": "Python 3 (ipykernel)",
   "language": "python",
   "name": "python3"
  },
  "language_info": {
   "codemirror_mode": {
    "name": "ipython",
    "version": 3
   },
   "file_extension": ".py",
   "mimetype": "text/x-python",
   "name": "python",
   "nbconvert_exporter": "python",
   "pygments_lexer": "ipython3",
   "version": "3.8.13"
  }
 },
 "nbformat": 4,
 "nbformat_minor": 5
}
